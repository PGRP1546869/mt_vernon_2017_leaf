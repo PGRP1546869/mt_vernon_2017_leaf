{
 "cells": [
  {
   "cell_type": "markdown",
   "metadata": {},
   "source": [
    "## 2017 Vine Physiology Analysis\n",
    "\n",
    "This notebooke contains vine physiology analysisfor the first year of Aim 1 of the NSF/PGRP project \"Adapting Perennial Crops for Climate Change: Graft Transmissible Effects of Rootstocks on Grapevine Shoots\" (1546869). The manuscript(s) associated with the data can be found in the README of this GitHIb repository.\n",
    "\n",
    "This code is provided for reproducability.\n",
    "\n",
    "Questions about this code and project can be directed to Zachary N. Harris or Allison J. Miller."
   ]
  },
  {
   "cell_type": "code",
   "execution_count": 1,
   "metadata": {},
   "outputs": [
    {
     "name": "stderr",
     "output_type": "stream",
     "text": [
      "Registered S3 methods overwritten by 'ggplot2':\n",
      "  method         from \n",
      "  [.quosures     rlang\n",
      "  c.quosures     rlang\n",
      "  print.quosures rlang\n",
      "── \u001b[1mAttaching packages\u001b[22m ─────────────────────────────────────── tidyverse 1.2.1 ──\n",
      "\u001b[32m✔\u001b[39m \u001b[34mggplot2\u001b[39m 3.1.1     \u001b[32m✔\u001b[39m \u001b[34mpurrr  \u001b[39m 0.3.2\n",
      "\u001b[32m✔\u001b[39m \u001b[34mtibble \u001b[39m 2.1.1     \u001b[32m✔\u001b[39m \u001b[34mdplyr  \u001b[39m 0.8.1\n",
      "\u001b[32m✔\u001b[39m \u001b[34mtidyr  \u001b[39m 0.8.3     \u001b[32m✔\u001b[39m \u001b[34mstringr\u001b[39m 1.4.0\n",
      "\u001b[32m✔\u001b[39m \u001b[34mreadr  \u001b[39m 1.3.1     \u001b[32m✔\u001b[39m \u001b[34mforcats\u001b[39m 0.4.0\n",
      "── \u001b[1mConflicts\u001b[22m ────────────────────────────────────────── tidyverse_conflicts() ──\n",
      "\u001b[31m✖\u001b[39m \u001b[34mdplyr\u001b[39m::\u001b[32mfilter()\u001b[39m masks \u001b[34mstats\u001b[39m::filter()\n",
      "\u001b[31m✖\u001b[39m \u001b[34mdplyr\u001b[39m::\u001b[32mlag()\u001b[39m    masks \u001b[34mstats\u001b[39m::lag()\n",
      "\n",
      "Attaching package: ‘rebus’\n",
      "\n",
      "The following object is masked from ‘package:stringr’:\n",
      "\n",
      "    regex\n",
      "\n",
      "The following object is masked from ‘package:ggplot2’:\n",
      "\n",
      "    alpha\n",
      "\n",
      "Loading required package: viridisLite\n",
      "Loading required package: carData\n",
      "\n",
      "Attaching package: ‘car’\n",
      "\n",
      "The following object is masked from ‘package:dplyr’:\n",
      "\n",
      "    recode\n",
      "\n",
      "The following object is masked from ‘package:purrr’:\n",
      "\n",
      "    some\n",
      "\n"
     ]
    }
   ],
   "source": [
    "library('tidyverse') ## Some functions get masked here. So it is worth being explicit for gather, select\n",
    "library('rebus')\n",
    "library('viridis')\n",
    "library('dplyr') ## ## Some functions get masked here. So it is worth being explicit for gather, select\n",
    "library('tibble')\n",
    "library('anomalize')\n",
    "library('car')\n",
    "library('emmeans')"
   ]
  },
  {
   "cell_type": "code",
   "execution_count": 2,
   "metadata": {},
   "outputs": [
    {
     "data": {
      "text/html": [
       "<table>\n",
       "<caption>A data.frame: 6 × 8</caption>\n",
       "<thead>\n",
       "\t<tr><th scope=col>sampleName</th><th scope=col>fileName</th><th scope=col>Row</th><th scope=col>Rootstock</th><th scope=col>Irrigation</th><th scope=col>Phenology</th><th scope=col>Tissue</th><th scope=col>Block</th></tr>\n",
       "\t<tr><th scope=col>&lt;fct&gt;</th><th scope=col>&lt;fct&gt;</th><th scope=col>&lt;int&gt;</th><th scope=col>&lt;fct&gt;</th><th scope=col>&lt;fct&gt;</th><th scope=col>&lt;fct&gt;</th><th scope=col>&lt;fct&gt;</th><th scope=col>&lt;fct&gt;</th></tr>\n",
       "</thead>\n",
       "<tbody>\n",
       "\t<tr><td>A1Y1_001_L</td><td>A1Y1_001_L.counts</td><td>8</td><td>1103P</td><td>none</td><td>anthesis</td><td>Leaf        </td><td>A</td></tr>\n",
       "\t<tr><td>A1Y1_001_R</td><td>A1Y1_001_R.counts</td><td>8</td><td>1103P</td><td>none</td><td>anthesis</td><td>Reproductive</td><td>A</td></tr>\n",
       "\t<tr><td>A1Y1_002_L</td><td>A1Y1_002_L.counts</td><td>8</td><td>1103P</td><td>none</td><td>anthesis</td><td>Leaf        </td><td>A</td></tr>\n",
       "\t<tr><td>A1Y1_002_R</td><td>A1Y1_002_R.counts</td><td>8</td><td>1103P</td><td>none</td><td>anthesis</td><td>Reproductive</td><td>A</td></tr>\n",
       "\t<tr><td>A1Y1_003_L</td><td>A1Y1_003_L.counts</td><td>8</td><td>3309C</td><td>none</td><td>anthesis</td><td>Leaf        </td><td>A</td></tr>\n",
       "\t<tr><td>A1Y1_003_R</td><td>A1Y1_003_R.counts</td><td>8</td><td>3309C</td><td>none</td><td>anthesis</td><td>Reproductive</td><td>A</td></tr>\n",
       "</tbody>\n",
       "</table>\n"
      ],
      "text/latex": [
       "A data.frame: 6 × 8\n",
       "\\begin{tabular}{r|llllllll}\n",
       " sampleName & fileName & Row & Rootstock & Irrigation & Phenology & Tissue & Block\\\\\n",
       " <fct> & <fct> & <int> & <fct> & <fct> & <fct> & <fct> & <fct>\\\\\n",
       "\\hline\n",
       "\t A1Y1\\_001\\_L & A1Y1\\_001\\_L.counts & 8 & 1103P & none & anthesis & Leaf         & A\\\\\n",
       "\t A1Y1\\_001\\_R & A1Y1\\_001\\_R.counts & 8 & 1103P & none & anthesis & Reproductive & A\\\\\n",
       "\t A1Y1\\_002\\_L & A1Y1\\_002\\_L.counts & 8 & 1103P & none & anthesis & Leaf         & A\\\\\n",
       "\t A1Y1\\_002\\_R & A1Y1\\_002\\_R.counts & 8 & 1103P & none & anthesis & Reproductive & A\\\\\n",
       "\t A1Y1\\_003\\_L & A1Y1\\_003\\_L.counts & 8 & 3309C & none & anthesis & Leaf         & A\\\\\n",
       "\t A1Y1\\_003\\_R & A1Y1\\_003\\_R.counts & 8 & 3309C & none & anthesis & Reproductive & A\\\\\n",
       "\\end{tabular}\n"
      ],
      "text/markdown": [
       "\n",
       "A data.frame: 6 × 8\n",
       "\n",
       "| sampleName &lt;fct&gt; | fileName &lt;fct&gt; | Row &lt;int&gt; | Rootstock &lt;fct&gt; | Irrigation &lt;fct&gt; | Phenology &lt;fct&gt; | Tissue &lt;fct&gt; | Block &lt;fct&gt; |\n",
       "|---|---|---|---|---|---|---|---|\n",
       "| A1Y1_001_L | A1Y1_001_L.counts | 8 | 1103P | none | anthesis | Leaf         | A |\n",
       "| A1Y1_001_R | A1Y1_001_R.counts | 8 | 1103P | none | anthesis | Reproductive | A |\n",
       "| A1Y1_002_L | A1Y1_002_L.counts | 8 | 1103P | none | anthesis | Leaf         | A |\n",
       "| A1Y1_002_R | A1Y1_002_R.counts | 8 | 1103P | none | anthesis | Reproductive | A |\n",
       "| A1Y1_003_L | A1Y1_003_L.counts | 8 | 3309C | none | anthesis | Leaf         | A |\n",
       "| A1Y1_003_R | A1Y1_003_R.counts | 8 | 3309C | none | anthesis | Reproductive | A |\n",
       "\n"
      ],
      "text/plain": [
       "  sampleName fileName          Row Rootstock Irrigation Phenology Tissue      \n",
       "1 A1Y1_001_L A1Y1_001_L.counts 8   1103P     none       anthesis  Leaf        \n",
       "2 A1Y1_001_R A1Y1_001_R.counts 8   1103P     none       anthesis  Reproductive\n",
       "3 A1Y1_002_L A1Y1_002_L.counts 8   1103P     none       anthesis  Leaf        \n",
       "4 A1Y1_002_R A1Y1_002_R.counts 8   1103P     none       anthesis  Reproductive\n",
       "5 A1Y1_003_L A1Y1_003_L.counts 8   3309C     none       anthesis  Leaf        \n",
       "6 A1Y1_003_R A1Y1_003_R.counts 8   3309C     none       anthesis  Reproductive\n",
       "  Block\n",
       "1 A    \n",
       "2 A    \n",
       "3 A    \n",
       "4 A    \n",
       "5 A    \n",
       "6 A    "
      ]
     },
     "metadata": {},
     "output_type": "display_data"
    }
   ],
   "source": [
    "meta <- read.csv('2017_treatment_metadata.csv')\n",
    "head(meta)"
   ]
  },
  {
   "cell_type": "code",
   "execution_count": 3,
   "metadata": {},
   "outputs": [
    {
     "data": {
      "text/html": [
       "<table>\n",
       "<caption>A data.frame: 6 × 9</caption>\n",
       "<thead>\n",
       "\t<tr><th scope=col>sampleName</th><th scope=col>Row</th><th scope=col>block</th><th scope=col>vine</th><th scope=col>waterPotential</th><th scope=col>soilMoisture</th><th scope=col>Cond</th><th scope=col>Ci</th><th scope=col>Trmmol</th></tr>\n",
       "\t<tr><th scope=col>&lt;fct&gt;</th><th scope=col>&lt;int&gt;</th><th scope=col>&lt;fct&gt;</th><th scope=col>&lt;int&gt;</th><th scope=col>&lt;dbl&gt;</th><th scope=col>&lt;dbl&gt;</th><th scope=col>&lt;dbl&gt;</th><th scope=col>&lt;dbl&gt;</th><th scope=col>&lt;dbl&gt;</th></tr>\n",
       "</thead>\n",
       "<tbody>\n",
       "\t<tr><td>A1Y1_001_L</td><td>8</td><td>a</td><td>2</td><td> 9.50</td><td>32.0</td><td>0.07734387</td><td> 138.1123</td><td>0.9736491</td></tr>\n",
       "\t<tr><td>A1Y1_002_L</td><td>8</td><td>a</td><td>3</td><td>12.50</td><td>35.4</td><td>0.10386962</td><td> 168.9603</td><td>1.1339703</td></tr>\n",
       "\t<tr><td>A1Y1_003_L</td><td>8</td><td>b</td><td>2</td><td>12.60</td><td>34.8</td><td>0.03543027</td><td>-147.5891</td><td>0.3974592</td></tr>\n",
       "\t<tr><td>A1Y1_004_L</td><td>8</td><td>b</td><td>3</td><td>10.50</td><td>35.4</td><td>0.33619481</td><td> 258.1799</td><td>2.6348604</td></tr>\n",
       "\t<tr><td>A1Y1_005_L</td><td>8</td><td>c</td><td>2</td><td> 8.00</td><td>33.4</td><td>0.12829633</td><td> 166.6581</td><td>1.0702814</td></tr>\n",
       "\t<tr><td>A1Y1_006_L</td><td>8</td><td>c</td><td>3</td><td>10.75</td><td>33.4</td><td>0.27706389</td><td> 281.0614</td><td>3.6145544</td></tr>\n",
       "</tbody>\n",
       "</table>\n"
      ],
      "text/latex": [
       "A data.frame: 6 × 9\n",
       "\\begin{tabular}{r|lllllllll}\n",
       " sampleName & Row & block & vine & waterPotential & soilMoisture & Cond & Ci & Trmmol\\\\\n",
       " <fct> & <int> & <fct> & <int> & <dbl> & <dbl> & <dbl> & <dbl> & <dbl>\\\\\n",
       "\\hline\n",
       "\t A1Y1\\_001\\_L & 8 & a & 2 &  9.50 & 32.0 & 0.07734387 &  138.1123 & 0.9736491\\\\\n",
       "\t A1Y1\\_002\\_L & 8 & a & 3 & 12.50 & 35.4 & 0.10386962 &  168.9603 & 1.1339703\\\\\n",
       "\t A1Y1\\_003\\_L & 8 & b & 2 & 12.60 & 34.8 & 0.03543027 & -147.5891 & 0.3974592\\\\\n",
       "\t A1Y1\\_004\\_L & 8 & b & 3 & 10.50 & 35.4 & 0.33619481 &  258.1799 & 2.6348604\\\\\n",
       "\t A1Y1\\_005\\_L & 8 & c & 2 &  8.00 & 33.4 & 0.12829633 &  166.6581 & 1.0702814\\\\\n",
       "\t A1Y1\\_006\\_L & 8 & c & 3 & 10.75 & 33.4 & 0.27706389 &  281.0614 & 3.6145544\\\\\n",
       "\\end{tabular}\n"
      ],
      "text/markdown": [
       "\n",
       "A data.frame: 6 × 9\n",
       "\n",
       "| sampleName &lt;fct&gt; | Row &lt;int&gt; | block &lt;fct&gt; | vine &lt;int&gt; | waterPotential &lt;dbl&gt; | soilMoisture &lt;dbl&gt; | Cond &lt;dbl&gt; | Ci &lt;dbl&gt; | Trmmol &lt;dbl&gt; |\n",
       "|---|---|---|---|---|---|---|---|---|\n",
       "| A1Y1_001_L | 8 | a | 2 |  9.50 | 32.0 | 0.07734387 |  138.1123 | 0.9736491 |\n",
       "| A1Y1_002_L | 8 | a | 3 | 12.50 | 35.4 | 0.10386962 |  168.9603 | 1.1339703 |\n",
       "| A1Y1_003_L | 8 | b | 2 | 12.60 | 34.8 | 0.03543027 | -147.5891 | 0.3974592 |\n",
       "| A1Y1_004_L | 8 | b | 3 | 10.50 | 35.4 | 0.33619481 |  258.1799 | 2.6348604 |\n",
       "| A1Y1_005_L | 8 | c | 2 |  8.00 | 33.4 | 0.12829633 |  166.6581 | 1.0702814 |\n",
       "| A1Y1_006_L | 8 | c | 3 | 10.75 | 33.4 | 0.27706389 |  281.0614 | 3.6145544 |\n",
       "\n"
      ],
      "text/plain": [
       "  sampleName Row block vine waterPotential soilMoisture Cond       Ci       \n",
       "1 A1Y1_001_L 8   a     2     9.50          32.0         0.07734387  138.1123\n",
       "2 A1Y1_002_L 8   a     3    12.50          35.4         0.10386962  168.9603\n",
       "3 A1Y1_003_L 8   b     2    12.60          34.8         0.03543027 -147.5891\n",
       "4 A1Y1_004_L 8   b     3    10.50          35.4         0.33619481  258.1799\n",
       "5 A1Y1_005_L 8   c     2     8.00          33.4         0.12829633  166.6581\n",
       "6 A1Y1_006_L 8   c     3    10.75          33.4         0.27706389  281.0614\n",
       "  Trmmol   \n",
       "1 0.9736491\n",
       "2 1.1339703\n",
       "3 0.3974592\n",
       "4 2.6348604\n",
       "5 1.0702814\n",
       "6 3.6145544"
      ]
     },
     "metadata": {},
     "output_type": "display_data"
    }
   ],
   "source": [
    "df <- read.csv('2017_physiology_clean_RNAseqNames_sMfixedVeraison.csv')\n",
    "df <- df %>% dplyr::select(sampleName, Row:soilMoisture, Cond:Trmmol)\n",
    "df <- head(df, 216)\n",
    "head(df)"
   ]
  },
  {
   "cell_type": "code",
   "execution_count": 4,
   "metadata": {},
   "outputs": [
    {
     "data": {
      "text/html": [
       "<table>\n",
       "<caption>A data.frame: 6 × 15</caption>\n",
       "<thead>\n",
       "\t<tr><th scope=col>sampleName</th><th scope=col>Row</th><th scope=col>block</th><th scope=col>vine</th><th scope=col>waterPotential</th><th scope=col>soilMoisture</th><th scope=col>Cond</th><th scope=col>Ci</th><th scope=col>Trmmol</th><th scope=col>fileName</th><th scope=col>Rootstock</th><th scope=col>Irrigation</th><th scope=col>Phenology</th><th scope=col>Tissue</th><th scope=col>Block</th></tr>\n",
       "\t<tr><th scope=col>&lt;fct&gt;</th><th scope=col>&lt;fct&gt;</th><th scope=col>&lt;fct&gt;</th><th scope=col>&lt;int&gt;</th><th scope=col>&lt;dbl&gt;</th><th scope=col>&lt;dbl&gt;</th><th scope=col>&lt;dbl&gt;</th><th scope=col>&lt;dbl&gt;</th><th scope=col>&lt;dbl&gt;</th><th scope=col>&lt;fct&gt;</th><th scope=col>&lt;fct&gt;</th><th scope=col>&lt;fct&gt;</th><th scope=col>&lt;fct&gt;</th><th scope=col>&lt;fct&gt;</th><th scope=col>&lt;fct&gt;</th></tr>\n",
       "</thead>\n",
       "<tbody>\n",
       "\t<tr><td>A1Y1_001_L</td><td>8</td><td>a</td><td>2</td><td> 9.50</td><td>32.0</td><td>0.07734387</td><td> 138.1123</td><td>0.9736491</td><td>A1Y1_001_L.counts</td><td>1103P</td><td>none</td><td>anthesis</td><td>Leaf</td><td>A</td></tr>\n",
       "\t<tr><td>A1Y1_002_L</td><td>8</td><td>a</td><td>3</td><td>12.50</td><td>35.4</td><td>0.10386962</td><td> 168.9603</td><td>1.1339703</td><td>A1Y1_002_L.counts</td><td>1103P</td><td>none</td><td>anthesis</td><td>Leaf</td><td>A</td></tr>\n",
       "\t<tr><td>A1Y1_003_L</td><td>8</td><td>b</td><td>2</td><td>12.60</td><td>34.8</td><td>0.03543027</td><td>-147.5891</td><td>0.3974592</td><td>A1Y1_003_L.counts</td><td>3309C</td><td>none</td><td>anthesis</td><td>Leaf</td><td>A</td></tr>\n",
       "\t<tr><td>A1Y1_004_L</td><td>8</td><td>b</td><td>3</td><td>10.50</td><td>35.4</td><td>0.33619481</td><td> 258.1799</td><td>2.6348604</td><td>A1Y1_004_L.counts</td><td>3309C</td><td>none</td><td>anthesis</td><td>Leaf</td><td>A</td></tr>\n",
       "\t<tr><td>A1Y1_005_L</td><td>8</td><td>c</td><td>2</td><td> 8.00</td><td>33.4</td><td>0.12829633</td><td> 166.6581</td><td>1.0702814</td><td>A1Y1_005_L.counts</td><td>SO4  </td><td>none</td><td>anthesis</td><td>Leaf</td><td>A</td></tr>\n",
       "\t<tr><td>A1Y1_006_L</td><td>8</td><td>c</td><td>3</td><td>10.75</td><td>33.4</td><td>0.27706389</td><td> 281.0614</td><td>3.6145544</td><td>A1Y1_006_L.counts</td><td>SO4  </td><td>none</td><td>anthesis</td><td>Leaf</td><td>A</td></tr>\n",
       "</tbody>\n",
       "</table>\n"
      ],
      "text/latex": [
       "A data.frame: 6 × 15\n",
       "\\begin{tabular}{r|lllllllllllllll}\n",
       " sampleName & Row & block & vine & waterPotential & soilMoisture & Cond & Ci & Trmmol & fileName & Rootstock & Irrigation & Phenology & Tissue & Block\\\\\n",
       " <fct> & <fct> & <fct> & <int> & <dbl> & <dbl> & <dbl> & <dbl> & <dbl> & <fct> & <fct> & <fct> & <fct> & <fct> & <fct>\\\\\n",
       "\\hline\n",
       "\t A1Y1\\_001\\_L & 8 & a & 2 &  9.50 & 32.0 & 0.07734387 &  138.1123 & 0.9736491 & A1Y1\\_001\\_L.counts & 1103P & none & anthesis & Leaf & A\\\\\n",
       "\t A1Y1\\_002\\_L & 8 & a & 3 & 12.50 & 35.4 & 0.10386962 &  168.9603 & 1.1339703 & A1Y1\\_002\\_L.counts & 1103P & none & anthesis & Leaf & A\\\\\n",
       "\t A1Y1\\_003\\_L & 8 & b & 2 & 12.60 & 34.8 & 0.03543027 & -147.5891 & 0.3974592 & A1Y1\\_003\\_L.counts & 3309C & none & anthesis & Leaf & A\\\\\n",
       "\t A1Y1\\_004\\_L & 8 & b & 3 & 10.50 & 35.4 & 0.33619481 &  258.1799 & 2.6348604 & A1Y1\\_004\\_L.counts & 3309C & none & anthesis & Leaf & A\\\\\n",
       "\t A1Y1\\_005\\_L & 8 & c & 2 &  8.00 & 33.4 & 0.12829633 &  166.6581 & 1.0702814 & A1Y1\\_005\\_L.counts & SO4   & none & anthesis & Leaf & A\\\\\n",
       "\t A1Y1\\_006\\_L & 8 & c & 3 & 10.75 & 33.4 & 0.27706389 &  281.0614 & 3.6145544 & A1Y1\\_006\\_L.counts & SO4   & none & anthesis & Leaf & A\\\\\n",
       "\\end{tabular}\n"
      ],
      "text/markdown": [
       "\n",
       "A data.frame: 6 × 15\n",
       "\n",
       "| sampleName &lt;fct&gt; | Row &lt;fct&gt; | block &lt;fct&gt; | vine &lt;int&gt; | waterPotential &lt;dbl&gt; | soilMoisture &lt;dbl&gt; | Cond &lt;dbl&gt; | Ci &lt;dbl&gt; | Trmmol &lt;dbl&gt; | fileName &lt;fct&gt; | Rootstock &lt;fct&gt; | Irrigation &lt;fct&gt; | Phenology &lt;fct&gt; | Tissue &lt;fct&gt; | Block &lt;fct&gt; |\n",
       "|---|---|---|---|---|---|---|---|---|---|---|---|---|---|---|\n",
       "| A1Y1_001_L | 8 | a | 2 |  9.50 | 32.0 | 0.07734387 |  138.1123 | 0.9736491 | A1Y1_001_L.counts | 1103P | none | anthesis | Leaf | A |\n",
       "| A1Y1_002_L | 8 | a | 3 | 12.50 | 35.4 | 0.10386962 |  168.9603 | 1.1339703 | A1Y1_002_L.counts | 1103P | none | anthesis | Leaf | A |\n",
       "| A1Y1_003_L | 8 | b | 2 | 12.60 | 34.8 | 0.03543027 | -147.5891 | 0.3974592 | A1Y1_003_L.counts | 3309C | none | anthesis | Leaf | A |\n",
       "| A1Y1_004_L | 8 | b | 3 | 10.50 | 35.4 | 0.33619481 |  258.1799 | 2.6348604 | A1Y1_004_L.counts | 3309C | none | anthesis | Leaf | A |\n",
       "| A1Y1_005_L | 8 | c | 2 |  8.00 | 33.4 | 0.12829633 |  166.6581 | 1.0702814 | A1Y1_005_L.counts | SO4   | none | anthesis | Leaf | A |\n",
       "| A1Y1_006_L | 8 | c | 3 | 10.75 | 33.4 | 0.27706389 |  281.0614 | 3.6145544 | A1Y1_006_L.counts | SO4   | none | anthesis | Leaf | A |\n",
       "\n"
      ],
      "text/plain": [
       "  sampleName Row block vine waterPotential soilMoisture Cond       Ci       \n",
       "1 A1Y1_001_L 8   a     2     9.50          32.0         0.07734387  138.1123\n",
       "2 A1Y1_002_L 8   a     3    12.50          35.4         0.10386962  168.9603\n",
       "3 A1Y1_003_L 8   b     2    12.60          34.8         0.03543027 -147.5891\n",
       "4 A1Y1_004_L 8   b     3    10.50          35.4         0.33619481  258.1799\n",
       "5 A1Y1_005_L 8   c     2     8.00          33.4         0.12829633  166.6581\n",
       "6 A1Y1_006_L 8   c     3    10.75          33.4         0.27706389  281.0614\n",
       "  Trmmol    fileName          Rootstock Irrigation Phenology Tissue Block\n",
       "1 0.9736491 A1Y1_001_L.counts 1103P     none       anthesis  Leaf   A    \n",
       "2 1.1339703 A1Y1_002_L.counts 1103P     none       anthesis  Leaf   A    \n",
       "3 0.3974592 A1Y1_003_L.counts 3309C     none       anthesis  Leaf   A    \n",
       "4 2.6348604 A1Y1_004_L.counts 3309C     none       anthesis  Leaf   A    \n",
       "5 1.0702814 A1Y1_005_L.counts SO4       none       anthesis  Leaf   A    \n",
       "6 3.6145544 A1Y1_006_L.counts SO4       none       anthesis  Leaf   A    "
      ]
     },
     "metadata": {},
     "output_type": "display_data"
    }
   ],
   "source": [
    "df <- merge(df, meta, on='sampleName', how='left')\n",
    "df$Row <- as.factor(df$Row)\n",
    "head(df)"
   ]
  },
  {
   "cell_type": "markdown",
   "metadata": {},
   "source": [
    "### Data Summary"
   ]
  },
  {
   "cell_type": "code",
   "execution_count": 5,
   "metadata": {},
   "outputs": [
    {
     "data": {
      "text/plain": [
       "\n",
       " 8  9 10 11 12 13 14 15 16 \n",
       "24 24 24 24 24 24 24 24 24 "
      ]
     },
     "metadata": {},
     "output_type": "display_data"
    },
    {
     "data": {
      "text/plain": [
       "\n",
       " A  B  C \n",
       "72 72 72 "
      ]
     },
     "metadata": {},
     "output_type": "display_data"
    },
    {
     "data": {
      "text/plain": [
       "\n",
       "1103P 3309C   Own   SO4 \n",
       "   54    54    54    54 "
      ]
     },
     "metadata": {},
     "output_type": "display_data"
    },
    {
     "data": {
      "text/plain": [
       "\n",
       "full none  RDI \n",
       "  72   72   72 "
      ]
     },
     "metadata": {},
     "output_type": "display_data"
    },
    {
     "data": {
      "text/plain": [
       "\n",
       "anthesis  harvest veraison \n",
       "      72       72       72 "
      ]
     },
     "metadata": {},
     "output_type": "display_data"
    }
   ],
   "source": [
    "table(df$Row)\n",
    "table(df$Block)\n",
    "table(df$Rootstock)\n",
    "table(df$Irrigation)\n",
    "table(df$Phenology)"
   ]
  },
  {
   "cell_type": "code",
   "execution_count": null,
   "metadata": {},
   "outputs": [],
   "source": []
  },
  {
   "cell_type": "code",
   "execution_count": 6,
   "metadata": {},
   "outputs": [
    {
     "name": "stderr",
     "output_type": "stream",
     "text": [
      "Warning message:\n",
      "“Removed 1 rows containing non-finite values (stat_density).”Warning message:\n",
      "“Removed 1 rows containing non-finite values (stat_density).”Warning message:\n",
      "“Removed 1 rows containing non-finite values (stat_density).”Warning message:\n",
      "“Removed 1 rows containing non-finite values (stat_density).”Warning message:\n",
      "“Removed 1 rows containing non-finite values (stat_density).”Warning message:\n",
      "“Removed 1 rows containing non-finite values (stat_density).”"
     ]
    },
    {
     "data": {
      "text/html": [
       "<strong>png:</strong> 2"
      ],
      "text/latex": [
       "\\textbf{png:} 2"
      ],
      "text/markdown": [
       "**png:** 2"
      ],
      "text/plain": [
       "png \n",
       "  2 "
      ]
     },
     "metadata": {},
     "output_type": "display_data"
    }
   ],
   "source": [
    "# decide which variables to model\n",
    "vars <- c('Ci', 'Cond', 'Trmmol', 'waterPotential')\n",
    "\n",
    "# create a collector for models and anovas\n",
    "models <- list(rep(0, length(vars)))\n",
    "anovas <- list(rep(0, length(vars)))\n",
    "\n",
    "# change options for the lms\n",
    "oldc <- getOption(\"contrasts\")\n",
    "options(contrasts=c('contr.sum','contr.poly'))\n",
    "\n",
    "pdf('2017_physiology_distributions.pdf', onefile=T)\n",
    "# do stats\n",
    "for (idx in 1:length(vars)){\n",
    "    # get var name at index\n",
    "    variable <- vars[idx]\n",
    "    \n",
    "    # plot raw data\n",
    "    d <- df[,c('sampleName', 'Irrigation', 'Rootstock', 'Phenology', 'Block', variable)]\n",
    "    p <- ggplot(d, aes_string(variable)) + geom_density() + geom_rug() + ggtitle(paste(variable, 'raw', sep='_'))\n",
    "    print(p)\n",
    "    \n",
    "    # remove outliers and plot clean data\n",
    "    d <- anomalize(as_tibble(d), target=variable, method='iqr', alpha=0.03, max_anoms=0.1)\n",
    "    d <- d[d$anomaly != 'Yes',]\n",
    "    p <- ggplot(d, aes_string(variable)) + geom_density() + geom_rug() + ggtitle(paste(variable, 'clean', sep='_'))\n",
    "    print(p)\n",
    "    \n",
    "    # fit lms\n",
    "    colnames(d) <- c('sampleName', 'Irrigation', 'Rootstock', 'Phenology', 'Block', 'variable')\n",
    "    model <- lm(variable ~ Block + Irrigation + Rootstock + Phenology + Block:Rootstock + Block:Phenology + Rootstock:Phenology, data=d, singular.ok=TRUE)\n",
    "    models[[idx]] <- model\n",
    "    \n",
    "    # compute stats on model under type-3 SS\n",
    "    stats <- car::Anova(model, type=3)\n",
    "    anovas[[idx]] <- stats\n",
    "    \n",
    "}\n",
    "dev.off()\n",
    "\n",
    "# reset base contrasts so nothing is too broken\n",
    "options(contrasts = oldc)"
   ]
  },
  {
   "cell_type": "code",
   "execution_count": 7,
   "metadata": {},
   "outputs": [
    {
     "data": {
      "text/html": [
       "<table>\n",
       "<caption>A anova: 9 × 4</caption>\n",
       "<thead>\n",
       "\t<tr><th></th><th scope=col>Sum Sq</th><th scope=col>Df</th><th scope=col>F value</th><th scope=col>Pr(&gt;F)</th></tr>\n",
       "\t<tr><th></th><th scope=col>&lt;dbl&gt;</th><th scope=col>&lt;dbl&gt;</th><th scope=col>&lt;dbl&gt;</th><th scope=col>&lt;dbl&gt;</th></tr>\n",
       "</thead>\n",
       "<tbody>\n",
       "\t<tr><th scope=row>(Intercept)</th><td>9.5014170248</td><td>  1</td><td>2489.6959751</td><td>9.241184e-111</td></tr>\n",
       "\t<tr><th scope=row>Block</th><td>0.0180594159</td><td>  2</td><td>   2.3660921</td><td> 9.662128e-02</td></tr>\n",
       "\t<tr><th scope=row>Irrigation</th><td>0.0008815091</td><td>  2</td><td>   0.1154927</td><td> 8.909899e-01</td></tr>\n",
       "\t<tr><th scope=row>Rootstock</th><td>0.0343785963</td><td>  3</td><td>   3.0027890</td><td> 3.173327e-02</td></tr>\n",
       "\t<tr><th scope=row>Phenology</th><td>0.1557318699</td><td>  2</td><td>  20.4035361</td><td> 9.479822e-09</td></tr>\n",
       "\t<tr><th scope=row>Block:Rootstock</th><td>0.0332215081</td><td>  6</td><td>   1.4508617</td><td> 1.973514e-01</td></tr>\n",
       "\t<tr><th scope=row>Block:Phenology</th><td>0.0807019644</td><td>  4</td><td>   5.2866682</td><td> 4.664862e-04</td></tr>\n",
       "\t<tr><th scope=row>Rootstock:Phenology</th><td>0.0795471995</td><td>  6</td><td>   3.4740141</td><td> 2.792824e-03</td></tr>\n",
       "\t<tr><th scope=row>Residuals</th><td>0.7212799617</td><td>189</td><td>          NA</td><td>           NA</td></tr>\n",
       "</tbody>\n",
       "</table>\n"
      ],
      "text/latex": [
       "A anova: 9 × 4\n",
       "\\begin{tabular}{r|llll}\n",
       "  & Sum Sq & Df & F value & Pr(>F)\\\\\n",
       "  & <dbl> & <dbl> & <dbl> & <dbl>\\\\\n",
       "\\hline\n",
       "\t(Intercept) & 9.5014170248 &   1 & 2489.6959751 & 9.241184e-111\\\\\n",
       "\tBlock & 0.0180594159 &   2 &    2.3660921 &  9.662128e-02\\\\\n",
       "\tIrrigation & 0.0008815091 &   2 &    0.1154927 &  8.909899e-01\\\\\n",
       "\tRootstock & 0.0343785963 &   3 &    3.0027890 &  3.173327e-02\\\\\n",
       "\tPhenology & 0.1557318699 &   2 &   20.4035361 &  9.479822e-09\\\\\n",
       "\tBlock:Rootstock & 0.0332215081 &   6 &    1.4508617 &  1.973514e-01\\\\\n",
       "\tBlock:Phenology & 0.0807019644 &   4 &    5.2866682 &  4.664862e-04\\\\\n",
       "\tRootstock:Phenology & 0.0795471995 &   6 &    3.4740141 &  2.792824e-03\\\\\n",
       "\tResiduals & 0.7212799617 & 189 &           NA &            NA\\\\\n",
       "\\end{tabular}\n"
      ],
      "text/markdown": [
       "\n",
       "A anova: 9 × 4\n",
       "\n",
       "| <!--/--> | Sum Sq &lt;dbl&gt; | Df &lt;dbl&gt; | F value &lt;dbl&gt; | Pr(&gt;F) &lt;dbl&gt; |\n",
       "|---|---|---|---|---|\n",
       "| (Intercept) | 9.5014170248 |   1 | 2489.6959751 | 9.241184e-111 |\n",
       "| Block | 0.0180594159 |   2 |    2.3660921 |  9.662128e-02 |\n",
       "| Irrigation | 0.0008815091 |   2 |    0.1154927 |  8.909899e-01 |\n",
       "| Rootstock | 0.0343785963 |   3 |    3.0027890 |  3.173327e-02 |\n",
       "| Phenology | 0.1557318699 |   2 |   20.4035361 |  9.479822e-09 |\n",
       "| Block:Rootstock | 0.0332215081 |   6 |    1.4508617 |  1.973514e-01 |\n",
       "| Block:Phenology | 0.0807019644 |   4 |    5.2866682 |  4.664862e-04 |\n",
       "| Rootstock:Phenology | 0.0795471995 |   6 |    3.4740141 |  2.792824e-03 |\n",
       "| Residuals | 0.7212799617 | 189 |           NA |            NA |\n",
       "\n"
      ],
      "text/plain": [
       "                    Sum Sq       Df  F value      Pr(>F)       \n",
       "(Intercept)         9.5014170248   1 2489.6959751 9.241184e-111\n",
       "Block               0.0180594159   2    2.3660921  9.662128e-02\n",
       "Irrigation          0.0008815091   2    0.1154927  8.909899e-01\n",
       "Rootstock           0.0343785963   3    3.0027890  3.173327e-02\n",
       "Phenology           0.1557318699   2   20.4035361  9.479822e-09\n",
       "Block:Rootstock     0.0332215081   6    1.4508617  1.973514e-01\n",
       "Block:Phenology     0.0807019644   4    5.2866682  4.664862e-04\n",
       "Rootstock:Phenology 0.0795471995   6    3.4740141  2.792824e-03\n",
       "Residuals           0.7212799617 189           NA            NA"
      ]
     },
     "metadata": {},
     "output_type": "display_data"
    }
   ],
   "source": [
    "anovas[[2]]"
   ]
  },
  {
   "cell_type": "code",
   "execution_count": 8,
   "metadata": {},
   "outputs": [
    {
     "data": {
      "text/html": [
       "<pre class=language-r><code>.Primitive(\"range\")</code></pre>"
      ],
      "text/latex": [
       "\\begin{minted}{r}\n",
       ".Primitive(\"range\")\n",
       "\\end{minted}"
      ],
      "text/markdown": [
       "```r\n",
       ".Primitive(\"range\")\n",
       "```"
      ],
      "text/plain": [
       "function (..., na.rm = FALSE)  .Primitive(\"range\")"
      ]
     },
     "metadata": {},
     "output_type": "display_data"
    }
   ],
   "source": [
    "range"
   ]
  },
  {
   "cell_type": "code",
   "execution_count": 9,
   "metadata": {},
   "outputs": [
    {
     "data": {
      "text/html": [
       "<table>\n",
       "<caption>A matrix: 4 × 16 of type dbl</caption>\n",
       "<thead>\n",
       "\t<tr><th></th><th scope=col>Block</th><th scope=col>Irrigation</th><th scope=col>Rootstock</th><th scope=col>Phenology</th><th scope=col>Block:Rootstock</th><th scope=col>Block:Phenology</th><th scope=col>Rootstock:Phenology</th><th scope=col>Residuals</th><th scope=col>Block_p</th><th scope=col>Irrigation_p</th><th scope=col>Rootstock_p</th><th scope=col>Phenology_p</th><th scope=col>Block:Rootstock_p</th><th scope=col>Block:Phenology_p</th><th scope=col>Rootstock:Phenology_p</th><th scope=col>Residuals_p</th></tr>\n",
       "</thead>\n",
       "<tbody>\n",
       "\t<tr><th scope=row>Ci</th><td>0.7180035</td><td>1.24542625</td><td>0.5129583</td><td> 3.774457</td><td>2.941898</td><td>12.272552</td><td>4.7520235</td><td>73.78268</td><td>4.023944e-01</td><td>0.20732969</td><td>0.72771791</td><td>9.189035e-03</td><td>0.2830626</td><td>7.536720e-06</td><td>0.065211137</td><td>NA</td></tr>\n",
       "\t<tr><th scope=row>Cond</th><td>1.6069926</td><td>0.07843989</td><td>3.0591328</td><td>13.857589</td><td>2.956171</td><td> 7.181155</td><td>7.0783997</td><td>64.18212</td><td>9.662128e-02</td><td>0.89098986</td><td>0.03173327</td><td>9.479822e-09</td><td>0.1973514</td><td>4.664862e-04</td><td>0.002792824</td><td>NA</td></tr>\n",
       "\t<tr><th scope=row>Trmmol</th><td>4.2226406</td><td>0.10141415</td><td>1.4405043</td><td>52.911636</td><td>1.026380</td><td>12.337828</td><td>2.4952867</td><td>25.46431</td><td>5.047978e-07</td><td>0.68687139</td><td>0.01526085</td><td>7.249225e-47</td><td>0.2732102</td><td>1.942141e-15</td><td>0.006610057</td><td>NA</td></tr>\n",
       "\t<tr><th scope=row>waterPotential</th><td>0.8453954</td><td>1.66065748</td><td>0.9110301</td><td>27.117017</td><td>2.147778</td><td> 7.190498</td><td>0.8575603</td><td>59.27006</td><td>2.604213e-01</td><td>0.07242895</td><td>0.40637164</td><td>2.862374e-16</td><td>0.3364742</td><td>2.128252e-04</td><td>0.838555576</td><td>NA</td></tr>\n",
       "</tbody>\n",
       "</table>\n"
      ],
      "text/latex": [
       "A matrix: 4 × 16 of type dbl\n",
       "\\begin{tabular}{r|llllllllllllllll}\n",
       "  & Block & Irrigation & Rootstock & Phenology & Block:Rootstock & Block:Phenology & Rootstock:Phenology & Residuals & Block\\_p & Irrigation\\_p & Rootstock\\_p & Phenology\\_p & Block:Rootstock\\_p & Block:Phenology\\_p & Rootstock:Phenology\\_p & Residuals\\_p\\\\\n",
       "\\hline\n",
       "\tCi & 0.7180035 & 1.24542625 & 0.5129583 &  3.774457 & 2.941898 & 12.272552 & 4.7520235 & 73.78268 & 4.023944e-01 & 0.20732969 & 0.72771791 & 9.189035e-03 & 0.2830626 & 7.536720e-06 & 0.065211137 & NA\\\\\n",
       "\tCond & 1.6069926 & 0.07843989 & 3.0591328 & 13.857589 & 2.956171 &  7.181155 & 7.0783997 & 64.18212 & 9.662128e-02 & 0.89098986 & 0.03173327 & 9.479822e-09 & 0.1973514 & 4.664862e-04 & 0.002792824 & NA\\\\\n",
       "\tTrmmol & 4.2226406 & 0.10141415 & 1.4405043 & 52.911636 & 1.026380 & 12.337828 & 2.4952867 & 25.46431 & 5.047978e-07 & 0.68687139 & 0.01526085 & 7.249225e-47 & 0.2732102 & 1.942141e-15 & 0.006610057 & NA\\\\\n",
       "\twaterPotential & 0.8453954 & 1.66065748 & 0.9110301 & 27.117017 & 2.147778 &  7.190498 & 0.8575603 & 59.27006 & 2.604213e-01 & 0.07242895 & 0.40637164 & 2.862374e-16 & 0.3364742 & 2.128252e-04 & 0.838555576 & NA\\\\\n",
       "\\end{tabular}\n"
      ],
      "text/markdown": [
       "\n",
       "A matrix: 4 × 16 of type dbl\n",
       "\n",
       "| <!--/--> | Block | Irrigation | Rootstock | Phenology | Block:Rootstock | Block:Phenology | Rootstock:Phenology | Residuals | Block_p | Irrigation_p | Rootstock_p | Phenology_p | Block:Rootstock_p | Block:Phenology_p | Rootstock:Phenology_p | Residuals_p |\n",
       "|---|---|---|---|---|---|---|---|---|---|---|---|---|---|---|---|---|\n",
       "| Ci | 0.7180035 | 1.24542625 | 0.5129583 |  3.774457 | 2.941898 | 12.272552 | 4.7520235 | 73.78268 | 4.023944e-01 | 0.20732969 | 0.72771791 | 9.189035e-03 | 0.2830626 | 7.536720e-06 | 0.065211137 | NA |\n",
       "| Cond | 1.6069926 | 0.07843989 | 3.0591328 | 13.857589 | 2.956171 |  7.181155 | 7.0783997 | 64.18212 | 9.662128e-02 | 0.89098986 | 0.03173327 | 9.479822e-09 | 0.1973514 | 4.664862e-04 | 0.002792824 | NA |\n",
       "| Trmmol | 4.2226406 | 0.10141415 | 1.4405043 | 52.911636 | 1.026380 | 12.337828 | 2.4952867 | 25.46431 | 5.047978e-07 | 0.68687139 | 0.01526085 | 7.249225e-47 | 0.2732102 | 1.942141e-15 | 0.006610057 | NA |\n",
       "| waterPotential | 0.8453954 | 1.66065748 | 0.9110301 | 27.117017 | 2.147778 |  7.190498 | 0.8575603 | 59.27006 | 2.604213e-01 | 0.07242895 | 0.40637164 | 2.862374e-16 | 0.3364742 | 2.128252e-04 | 0.838555576 | NA |\n",
       "\n"
      ],
      "text/plain": [
       "               Block     Irrigation Rootstock Phenology Block:Rootstock\n",
       "Ci             0.7180035 1.24542625 0.5129583  3.774457 2.941898       \n",
       "Cond           1.6069926 0.07843989 3.0591328 13.857589 2.956171       \n",
       "Trmmol         4.2226406 0.10141415 1.4405043 52.911636 1.026380       \n",
       "waterPotential 0.8453954 1.66065748 0.9110301 27.117017 2.147778       \n",
       "               Block:Phenology Rootstock:Phenology Residuals Block_p     \n",
       "Ci             12.272552       4.7520235           73.78268  4.023944e-01\n",
       "Cond            7.181155       7.0783997           64.18212  9.662128e-02\n",
       "Trmmol         12.337828       2.4952867           25.46431  5.047978e-07\n",
       "waterPotential  7.190498       0.8575603           59.27006  2.604213e-01\n",
       "               Irrigation_p Rootstock_p Phenology_p  Block:Rootstock_p\n",
       "Ci             0.20732969   0.72771791  9.189035e-03 0.2830626        \n",
       "Cond           0.89098986   0.03173327  9.479822e-09 0.1973514        \n",
       "Trmmol         0.68687139   0.01526085  7.249225e-47 0.2732102        \n",
       "waterPotential 0.07242895   0.40637164  2.862374e-16 0.3364742        \n",
       "               Block:Phenology_p Rootstock:Phenology_p Residuals_p\n",
       "Ci             7.536720e-06      0.065211137           NA         \n",
       "Cond           4.664862e-04      0.002792824           NA         \n",
       "Trmmol         1.942141e-15      0.006610057           NA         \n",
       "waterPotential 2.128252e-04      0.838555576           NA         "
      ]
     },
     "metadata": {},
     "output_type": "display_data"
    }
   ],
   "source": [
    "factors <- rownames(anovas[[1]])[2:length(rownames(anovas[[1]]))]\n",
    "\n",
    "total_var_mat_p=matrix(,length(vars),length(factors)*2)\n",
    "colnames(total_var_mat_p) <- c(factors, paste(factors, 'p', sep='_'))\n",
    "rownames(total_var_mat_p) <- vars\n",
    "\n",
    "for (idx in 1:length(vars)){\n",
    "    range <- 2:(length(factors)+1)\n",
    "    SS <- anovas[[idx]]$Sum[range]\n",
    "    total_var <- sum(SS, na.rm=TRUE)\n",
    "    var_exp <- SS/total_var * 100\n",
    "    var_p <- anovas[[idx]]$Pr[range]\n",
    "    mat_row <- c(var_exp, var_p)\n",
    "    total_var_mat_p[idx,] <- mat_row\n",
    "}\n",
    "\n",
    "head(total_var_mat_p)"
   ]
  },
  {
   "cell_type": "code",
   "execution_count": 10,
   "metadata": {},
   "outputs": [
    {
     "data": {
      "text/html": [
       "<table>\n",
       "<caption>A data.frame: 4 × 15</caption>\n",
       "<thead>\n",
       "\t<tr><th></th><th scope=col>Block</th><th scope=col>Irrigation</th><th scope=col>Rootstock</th><th scope=col>Phenology</th><th scope=col>Block.Rootstock</th><th scope=col>Block.Phenology</th><th scope=col>Rootstock.Phenology</th><th scope=col>Block_p</th><th scope=col>Irrigation_p</th><th scope=col>Rootstock_p</th><th scope=col>Phenology_p</th><th scope=col>Block.Rootstock_p</th><th scope=col>Block.Phenology_p</th><th scope=col>Rootstock.Phenology_p</th><th scope=col>variable</th></tr>\n",
       "\t<tr><th></th><th scope=col>&lt;dbl&gt;</th><th scope=col>&lt;dbl&gt;</th><th scope=col>&lt;dbl&gt;</th><th scope=col>&lt;dbl&gt;</th><th scope=col>&lt;dbl&gt;</th><th scope=col>&lt;dbl&gt;</th><th scope=col>&lt;dbl&gt;</th><th scope=col>&lt;dbl&gt;</th><th scope=col>&lt;dbl&gt;</th><th scope=col>&lt;dbl&gt;</th><th scope=col>&lt;dbl&gt;</th><th scope=col>&lt;dbl&gt;</th><th scope=col>&lt;dbl&gt;</th><th scope=col>&lt;dbl&gt;</th><th scope=col>&lt;chr&gt;</th></tr>\n",
       "</thead>\n",
       "<tbody>\n",
       "\t<tr><th scope=row>Ci</th><td>0.7180035</td><td>1.24542625</td><td>0.5129583</td><td> 3.774457</td><td>2.941898</td><td>12.272552</td><td>4.7520235</td><td>4.023944e-01</td><td>0.20732969</td><td>0.72771791</td><td>9.189035e-03</td><td>0.2830626</td><td>7.536720e-06</td><td>0.065211137</td><td>Ci            </td></tr>\n",
       "\t<tr><th scope=row>Cond</th><td>1.6069926</td><td>0.07843989</td><td>3.0591328</td><td>13.857589</td><td>2.956171</td><td> 7.181155</td><td>7.0783997</td><td>9.662128e-02</td><td>0.89098986</td><td>0.03173327</td><td>9.479822e-09</td><td>0.1973514</td><td>4.664862e-04</td><td>0.002792824</td><td>Cond          </td></tr>\n",
       "\t<tr><th scope=row>Trmmol</th><td>4.2226406</td><td>0.10141415</td><td>1.4405043</td><td>52.911636</td><td>1.026380</td><td>12.337828</td><td>2.4952867</td><td>5.047978e-07</td><td>0.68687139</td><td>0.01526085</td><td>7.249225e-47</td><td>0.2732102</td><td>1.942141e-15</td><td>0.006610057</td><td>Trmmol        </td></tr>\n",
       "\t<tr><th scope=row>waterPotential</th><td>0.8453954</td><td>1.66065748</td><td>0.9110301</td><td>27.117017</td><td>2.147778</td><td> 7.190498</td><td>0.8575603</td><td>2.604213e-01</td><td>0.07242895</td><td>0.40637164</td><td>2.862374e-16</td><td>0.3364742</td><td>2.128252e-04</td><td>0.838555576</td><td>waterPotential</td></tr>\n",
       "</tbody>\n",
       "</table>\n"
      ],
      "text/latex": [
       "A data.frame: 4 × 15\n",
       "\\begin{tabular}{r|lllllllllllllll}\n",
       "  & Block & Irrigation & Rootstock & Phenology & Block.Rootstock & Block.Phenology & Rootstock.Phenology & Block\\_p & Irrigation\\_p & Rootstock\\_p & Phenology\\_p & Block.Rootstock\\_p & Block.Phenology\\_p & Rootstock.Phenology\\_p & variable\\\\\n",
       "  & <dbl> & <dbl> & <dbl> & <dbl> & <dbl> & <dbl> & <dbl> & <dbl> & <dbl> & <dbl> & <dbl> & <dbl> & <dbl> & <dbl> & <chr>\\\\\n",
       "\\hline\n",
       "\tCi & 0.7180035 & 1.24542625 & 0.5129583 &  3.774457 & 2.941898 & 12.272552 & 4.7520235 & 4.023944e-01 & 0.20732969 & 0.72771791 & 9.189035e-03 & 0.2830626 & 7.536720e-06 & 0.065211137 & Ci            \\\\\n",
       "\tCond & 1.6069926 & 0.07843989 & 3.0591328 & 13.857589 & 2.956171 &  7.181155 & 7.0783997 & 9.662128e-02 & 0.89098986 & 0.03173327 & 9.479822e-09 & 0.1973514 & 4.664862e-04 & 0.002792824 & Cond          \\\\\n",
       "\tTrmmol & 4.2226406 & 0.10141415 & 1.4405043 & 52.911636 & 1.026380 & 12.337828 & 2.4952867 & 5.047978e-07 & 0.68687139 & 0.01526085 & 7.249225e-47 & 0.2732102 & 1.942141e-15 & 0.006610057 & Trmmol        \\\\\n",
       "\twaterPotential & 0.8453954 & 1.66065748 & 0.9110301 & 27.117017 & 2.147778 &  7.190498 & 0.8575603 & 2.604213e-01 & 0.07242895 & 0.40637164 & 2.862374e-16 & 0.3364742 & 2.128252e-04 & 0.838555576 & waterPotential\\\\\n",
       "\\end{tabular}\n"
      ],
      "text/markdown": [
       "\n",
       "A data.frame: 4 × 15\n",
       "\n",
       "| <!--/--> | Block &lt;dbl&gt; | Irrigation &lt;dbl&gt; | Rootstock &lt;dbl&gt; | Phenology &lt;dbl&gt; | Block.Rootstock &lt;dbl&gt; | Block.Phenology &lt;dbl&gt; | Rootstock.Phenology &lt;dbl&gt; | Block_p &lt;dbl&gt; | Irrigation_p &lt;dbl&gt; | Rootstock_p &lt;dbl&gt; | Phenology_p &lt;dbl&gt; | Block.Rootstock_p &lt;dbl&gt; | Block.Phenology_p &lt;dbl&gt; | Rootstock.Phenology_p &lt;dbl&gt; | variable &lt;chr&gt; |\n",
       "|---|---|---|---|---|---|---|---|---|---|---|---|---|---|---|---|\n",
       "| Ci | 0.7180035 | 1.24542625 | 0.5129583 |  3.774457 | 2.941898 | 12.272552 | 4.7520235 | 4.023944e-01 | 0.20732969 | 0.72771791 | 9.189035e-03 | 0.2830626 | 7.536720e-06 | 0.065211137 | Ci             |\n",
       "| Cond | 1.6069926 | 0.07843989 | 3.0591328 | 13.857589 | 2.956171 |  7.181155 | 7.0783997 | 9.662128e-02 | 0.89098986 | 0.03173327 | 9.479822e-09 | 0.1973514 | 4.664862e-04 | 0.002792824 | Cond           |\n",
       "| Trmmol | 4.2226406 | 0.10141415 | 1.4405043 | 52.911636 | 1.026380 | 12.337828 | 2.4952867 | 5.047978e-07 | 0.68687139 | 0.01526085 | 7.249225e-47 | 0.2732102 | 1.942141e-15 | 0.006610057 | Trmmol         |\n",
       "| waterPotential | 0.8453954 | 1.66065748 | 0.9110301 | 27.117017 | 2.147778 |  7.190498 | 0.8575603 | 2.604213e-01 | 0.07242895 | 0.40637164 | 2.862374e-16 | 0.3364742 | 2.128252e-04 | 0.838555576 | waterPotential |\n",
       "\n"
      ],
      "text/plain": [
       "               Block     Irrigation Rootstock Phenology Block.Rootstock\n",
       "Ci             0.7180035 1.24542625 0.5129583  3.774457 2.941898       \n",
       "Cond           1.6069926 0.07843989 3.0591328 13.857589 2.956171       \n",
       "Trmmol         4.2226406 0.10141415 1.4405043 52.911636 1.026380       \n",
       "waterPotential 0.8453954 1.66065748 0.9110301 27.117017 2.147778       \n",
       "               Block.Phenology Rootstock.Phenology Block_p      Irrigation_p\n",
       "Ci             12.272552       4.7520235           4.023944e-01 0.20732969  \n",
       "Cond            7.181155       7.0783997           9.662128e-02 0.89098986  \n",
       "Trmmol         12.337828       2.4952867           5.047978e-07 0.68687139  \n",
       "waterPotential  7.190498       0.8575603           2.604213e-01 0.07242895  \n",
       "               Rootstock_p Phenology_p  Block.Rootstock_p Block.Phenology_p\n",
       "Ci             0.72771791  9.189035e-03 0.2830626         7.536720e-06     \n",
       "Cond           0.03173327  9.479822e-09 0.1973514         4.664862e-04     \n",
       "Trmmol         0.01526085  7.249225e-47 0.2732102         1.942141e-15     \n",
       "waterPotential 0.40637164  2.862374e-16 0.3364742         2.128252e-04     \n",
       "               Rootstock.Phenology_p variable      \n",
       "Ci             0.065211137           Ci            \n",
       "Cond           0.002792824           Cond          \n",
       "Trmmol         0.006610057           Trmmol        \n",
       "waterPotential 0.838555576           waterPotential"
      ]
     },
     "metadata": {},
     "output_type": "display_data"
    }
   ],
   "source": [
    "total_var_mat_p <- data.frame(total_var_mat_p)\n",
    "\n",
    "total_var_mat_p$variable <- rownames(total_var_mat_p)\n",
    "total_var_mat_p$Residuals <- NULL\n",
    "total_var_mat_p$Residuals_p <- NULL\n",
    "\n",
    "head(total_var_mat_p)\n",
    "\n",
    "write.csv(total_var_mat_p, file='2017_physiology_var_p.csv', quote=F)"
   ]
  },
  {
   "cell_type": "code",
   "execution_count": null,
   "metadata": {},
   "outputs": [],
   "source": [
    "# Get variance columns\n",
    "total_var <- total_var_mat_p %>% dplyr::select(variable, Irrigation:Rootstock.Phenology)\n",
    "\n",
    "# reorganize and rename to format for plotting\n",
    "total_var <- total_var %>% gather(key=factor, value=var, -variable)\n",
    "\n",
    "total_var <- total_var %>% mutate(factor=str_replace(factor, \"_var\" %R% END, \"\"))\n",
    "head(total_var)\n",
    "\n",
    "#get p-value columns\n",
    "total_p <- total_var_mat_p %>% dplyr::select(Irrigation_p:Rootstock.Phenology_p)\n",
    "total_p <- data.frame(t(apply(total_p, 1, FUN=p.adjust, method='fdr')))\n",
    "total_p$variable <- total_var_mat_p$variable\n",
    "\n",
    "#reorganize and rename to format for plotting\n",
    "total_p <- total_p %>% gather(key=factor, value=p_value, -variable)\n",
    "total_p <- total_p %>% mutate(factor=str_replace(factor,\"_p\" %R% END, \"\"))\n",
    "\n",
    "#join variance and p-value tables back together \n",
    "total_var_p <- full_join(total_var, total_p,by=c(\"variable\", \"factor\"))\n",
    "\n",
    "#elements need a number for y-axis when plotting \n",
    "total_var_p <- total_var_p %>% arrange(variable) %>% mutate(var_number=rep(1:4, each=6))\n",
    "\n",
    "#only plot significant p_values\n",
    "total_var_p_sig <- total_var_p %>% filter(p_value < 0.05) \n",
    "write.table(total_var_p_sig[,c(\"variable\", \"factor\",\"var\", \"p_value\")], \"2017_physiology_var_p_sig.txt\", sep=\"\\t\", row.names=F, quote=F, col.names=T)"
   ]
  },
  {
   "cell_type": "code",
   "execution_count": 46,
   "metadata": {},
   "outputs": [],
   "source": [
    "#make plot\n",
    " \n",
    "total_var_p_sig$factor <- factor(total_var_p_sig$factor, levels=c('Phenology', 'Rootstock', 'Block.Phenology', 'Rootstock.Phenology'))"
   ]
  },
  {
   "cell_type": "code",
   "execution_count": 47,
   "metadata": {},
   "outputs": [
    {
     "data": {
      "text/html": [
       "<strong>png:</strong> 2"
      ],
      "text/latex": [
       "\\textbf{png:} 2"
      ],
      "text/markdown": [
       "**png:** 2"
      ],
      "text/plain": [
       "png \n",
       "  2 "
      ]
     },
     "metadata": {},
     "output_type": "display_data"
    },
    {
     "data": {
      "image/png": "[encoded data removed]",
      "text/plain": [
       "plot without title"
      ]
     },
     "metadata": {},
     "output_type": "display_data"
    }
   ],
   "source": [
    "t <- ggplot(data=total_var_p_sig, aes(x=factor, y=as.numeric(as.character(var_number)), fill=var)) + \n",
    "    geom_tile(color=\"black\", size=0.2)+\n",
    "    theme_minimal() +\n",
    "    labs(x = \"Factor\", y=\"\") + \n",
    "    theme(axis.text=element_text(size=10),axis.title=element_text(size=12,face=\"bold\"),legend.position = \"right\") +\n",
    "    scale_y_continuous(trans=\"reverse\", breaks = seq(1, 4, 1), minor_breaks=NULL, labels=c(bquote('Leaf '*CO[2]*' concentration'), 'Stomatal conductance', 'Leaf transpiration', ' Water potential')) + #unique(total_var_p_sig[,\"variable\"])) +\n",
    "    scale_x_discrete(position = \"top\") + \n",
    "    scale_fill_viridis(option=\"inferno\", name=\"% variance explained\", direction = -1)\n",
    "\n",
    "\n",
    "t\n",
    "\n",
    "pdf(\"physiology_variance_heatmap_black_viridis.pdf\", width=12, height=8)\n",
    "  t\n",
    "dev.off()"
   ]
  },
  {
   "cell_type": "code",
   "execution_count": 12,
   "metadata": {},
   "outputs": [
    {
     "name": "stdout",
     "output_type": "stream",
     "text": [
      "[1] \"Ci\"\n",
      "Anova Table (Type III tests)\n",
      "\n",
      "Response: variable\n",
      "                      Sum Sq  Df    F value    Pr(>F)    \n",
      "(Intercept)         14494697   1 18420.5100 < 2.2e-16 ***\n",
      "Block                   1440   2     0.9147  0.402394    \n",
      "Irrigation              2497   2     1.5867  0.207330    \n",
      "Rootstock               1028   3     0.4357  0.727718    \n",
      "Phenology               7568   2     4.8087  0.009189 ** \n",
      "Block:Rootstock         5898   6     1.2493  0.283063    \n",
      "Block:Phenology        24606   4     7.8177 7.537e-06 ***\n",
      "Rootstock:Phenology     9528   6     2.0180  0.065211 .  \n",
      "Residuals             147933 188                         \n",
      "---\n",
      "Signif. codes:  0 ‘***’ 0.001 ‘**’ 0.01 ‘*’ 0.05 ‘.’ 0.1 ‘ ’ 1\n",
      "[1] \"Cond\"\n",
      "Anova Table (Type III tests)\n",
      "\n",
      "Response: variable\n",
      "                    Sum Sq  Df   F value    Pr(>F)    \n",
      "(Intercept)         9.5014   1 2489.6960 < 2.2e-16 ***\n",
      "Block               0.0181   2    2.3661 0.0966213 .  \n",
      "Irrigation          0.0009   2    0.1155 0.8909899    \n",
      "Rootstock           0.0344   3    3.0028 0.0317333 *  \n",
      "Phenology           0.1557   2   20.4035  9.48e-09 ***\n",
      "Block:Rootstock     0.0332   6    1.4509 0.1973514    \n",
      "Block:Phenology     0.0807   4    5.2867 0.0004665 ***\n",
      "Rootstock:Phenology 0.0795   6    3.4740 0.0027928 ** \n",
      "Residuals           0.7213 189                        \n",
      "---\n",
      "Signif. codes:  0 ‘***’ 0.001 ‘**’ 0.01 ‘*’ 0.05 ‘.’ 0.1 ‘ ’ 1\n",
      "[1] \"Trmmol\"\n",
      "Anova Table (Type III tests)\n",
      "\n",
      "Response: variable\n",
      "                    Sum Sq  Df   F value    Pr(>F)    \n",
      "(Intercept)         4770.1   1 2801.3114 < 2.2e-16 ***\n",
      "Block                 53.4   2   15.6705 5.048e-07 ***\n",
      "Irrigation             1.3   2    0.3764   0.68687    \n",
      "Rootstock             18.2   3    3.5639   0.01526 *  \n",
      "Phenology            668.7   2  196.3591 < 2.2e-16 ***\n",
      "Block:Rootstock       13.0   6    1.2697   0.27321    \n",
      "Block:Phenology      155.9   4   22.8933 1.942e-15 ***\n",
      "Rootstock:Phenology   31.5   6    3.0867   0.00661 ** \n",
      "Residuals            321.8 189                        \n",
      "---\n",
      "Signif. codes:  0 ‘***’ 0.001 ‘**’ 0.01 ‘*’ 0.05 ‘.’ 0.1 ‘ ’ 1\n",
      "[1] \"waterPotential\"\n",
      "Anova Table (Type III tests)\n",
      "\n",
      "Response: variable\n",
      "                     Sum Sq  Df   F value    Pr(>F)    \n",
      "(Intercept)         29011.6   1 7602.2321 < 2.2e-16 ***\n",
      "Block                  10.3   2    1.3550 0.2604213    \n",
      "Irrigation             20.3   2    2.6618 0.0724289 .  \n",
      "Rootstock              11.1   3    0.9735 0.4063716    \n",
      "Phenology             331.7   2   43.4640 2.862e-16 ***\n",
      "Block:Rootstock        26.3   6    1.1475 0.3364742    \n",
      "Block:Phenology        88.0   4    5.7626 0.0002128 ***\n",
      "Rootstock:Phenology    10.5   6    0.4582 0.8385556    \n",
      "Residuals             725.1 190                        \n",
      "---\n",
      "Signif. codes:  0 ‘***’ 0.001 ‘**’ 0.01 ‘*’ 0.05 ‘.’ 0.1 ‘ ’ 1\n"
     ]
    }
   ],
   "source": [
    "for (i in 1:length(anovas)){\n",
    "    print(c('Ci', 'Cond', 'Trmmol', 'waterPotential')[i])\n",
    "    print(anovas[[i]])\n",
    "}"
   ]
  },
  {
   "cell_type": "code",
   "execution_count": 13,
   "metadata": {},
   "outputs": [
    {
     "data": {
      "text/html": [
       "<table>\n",
       "<caption>A data.frame: 1 × 7</caption>\n",
       "<thead>\n",
       "\t<tr><th></th><th scope=col>contrast</th><th scope=col>estimate</th><th scope=col>SE</th><th scope=col>df</th><th scope=col>t.ratio</th><th scope=col>p.value</th><th scope=col>padj</th></tr>\n",
       "\t<tr><th></th><th scope=col>&lt;fct&gt;</th><th scope=col>&lt;dbl&gt;</th><th scope=col>&lt;dbl&gt;</th><th scope=col>&lt;dbl&gt;</th><th scope=col>&lt;dbl&gt;</th><th scope=col>&lt;dbl&gt;</th><th scope=col>&lt;dbl&gt;</th></tr>\n",
       "</thead>\n",
       "<tbody>\n",
       "\t<tr><th scope=row>62</th><td>1103P,veraison - Own,veraison</td><td>0.1030994</td><td>0.02091467</td><td>189</td><td>4.929523</td><td>0.0001124028</td><td>0.002023251</td></tr>\n",
       "</tbody>\n",
       "</table>\n"
      ],
      "text/latex": [
       "A data.frame: 1 × 7\n",
       "\\begin{tabular}{r|lllllll}\n",
       "  & contrast & estimate & SE & df & t.ratio & p.value & padj\\\\\n",
       "  & <fct> & <dbl> & <dbl> & <dbl> & <dbl> & <dbl> & <dbl>\\\\\n",
       "\\hline\n",
       "\t62 & 1103P,veraison - Own,veraison & 0.1030994 & 0.02091467 & 189 & 4.929523 & 0.0001124028 & 0.002023251\\\\\n",
       "\\end{tabular}\n"
      ],
      "text/markdown": [
       "\n",
       "A data.frame: 1 × 7\n",
       "\n",
       "| <!--/--> | contrast &lt;fct&gt; | estimate &lt;dbl&gt; | SE &lt;dbl&gt; | df &lt;dbl&gt; | t.ratio &lt;dbl&gt; | p.value &lt;dbl&gt; | padj &lt;dbl&gt; |\n",
       "|---|---|---|---|---|---|---|---|\n",
       "| 62 | 1103P,veraison - Own,veraison | 0.1030994 | 0.02091467 | 189 | 4.929523 | 0.0001124028 | 0.002023251 |\n",
       "\n"
      ],
      "text/plain": [
       "   contrast                      estimate  SE         df  t.ratio  p.value     \n",
       "62 1103P,veraison - Own,veraison 0.1030994 0.02091467 189 4.929523 0.0001124028\n",
       "   padj       \n",
       "62 0.002023251"
      ]
     },
     "metadata": {},
     "output_type": "display_data"
    },
    {
     "data": {
      "text/html": [
       "<table>\n",
       "<caption>A data.frame: 1 × 7</caption>\n",
       "<thead>\n",
       "\t<tr><th></th><th scope=col>contrast</th><th scope=col>estimate</th><th scope=col>SE</th><th scope=col>df</th><th scope=col>t.ratio</th><th scope=col>p.value</th><th scope=col>padj</th></tr>\n",
       "\t<tr><th></th><th scope=col>&lt;fct&gt;</th><th scope=col>&lt;dbl&gt;</th><th scope=col>&lt;dbl&gt;</th><th scope=col>&lt;dbl&gt;</th><th scope=col>&lt;dbl&gt;</th><th scope=col>&lt;dbl&gt;</th><th scope=col>&lt;dbl&gt;</th></tr>\n",
       "</thead>\n",
       "<tbody>\n",
       "\t<tr><th scope=row>62</th><td>1103P,veraison - Own,veraison</td><td>2.230034</td><td>0.4417889</td><td>189</td><td>5.047736</td><td>6.598567e-05</td><td>0.001187742</td></tr>\n",
       "</tbody>\n",
       "</table>\n"
      ],
      "text/latex": [
       "A data.frame: 1 × 7\n",
       "\\begin{tabular}{r|lllllll}\n",
       "  & contrast & estimate & SE & df & t.ratio & p.value & padj\\\\\n",
       "  & <fct> & <dbl> & <dbl> & <dbl> & <dbl> & <dbl> & <dbl>\\\\\n",
       "\\hline\n",
       "\t62 & 1103P,veraison - Own,veraison & 2.230034 & 0.4417889 & 189 & 5.047736 & 6.598567e-05 & 0.001187742\\\\\n",
       "\\end{tabular}\n"
      ],
      "text/markdown": [
       "\n",
       "A data.frame: 1 × 7\n",
       "\n",
       "| <!--/--> | contrast &lt;fct&gt; | estimate &lt;dbl&gt; | SE &lt;dbl&gt; | df &lt;dbl&gt; | t.ratio &lt;dbl&gt; | p.value &lt;dbl&gt; | padj &lt;dbl&gt; |\n",
       "|---|---|---|---|---|---|---|---|\n",
       "| 62 | 1103P,veraison - Own,veraison | 2.230034 | 0.4417889 | 189 | 5.047736 | 6.598567e-05 | 0.001187742 |\n",
       "\n"
      ],
      "text/plain": [
       "   contrast                      estimate SE        df  t.ratio  p.value     \n",
       "62 1103P,veraison - Own,veraison 2.230034 0.4417889 189 5.047736 6.598567e-05\n",
       "   padj       \n",
       "62 0.001187742"
      ]
     },
     "metadata": {},
     "output_type": "display_data"
    }
   ],
   "source": [
    "## Comparison of means for Trmmol and Cond for RS x P\n",
    "\n",
    "cond_model <- models[[2]]\n",
    "trmmol_model <- models[[3]]\n",
    "\n",
    "cond.emm <- emmeans(cond_model, ~Rootstock:Phenology)\n",
    "res <- pairs(cond.emm)\n",
    "res <- as.data.frame(res)\n",
    "res <- transform(res, comps=reshape::colsplit(contrast, split = \"-\", names = c('c1', 'c2')))\n",
    "res <- transform(res, c1=reshape::colsplit(comps.c1, split = \",\", names = c('i1', 'p1')))\n",
    "res <- transform(res, c2=reshape::colsplit(comps.c2, split = \",\", names = c('i2', 'p2')))\n",
    "res$c2.p2 <- trimws(res$c2.p2, which='left')\n",
    "res$c1.p1 <- trimws(res$c1.p1, which='right')\n",
    "res <- res[res$c1.p1 == res$c2.p2,] %>% select(contrast:p.value)\n",
    "res$padj <- p.adjust(res$p.value, method='fdr')\n",
    "res[res$padj < 0.05,]\n",
    "\n",
    "trmmol.emm <- emmeans(trmmol_model, ~Rootstock:Phenology)\n",
    "res <- pairs(trmmol.emm)\n",
    "res <- as.data.frame(res)\n",
    "res <- transform(res, comps=reshape::colsplit(contrast, split = \"-\", names = c('c1', 'c2')))\n",
    "res <- transform(res, c1=reshape::colsplit(comps.c1, split = \",\", names = c('i1', 'p1')))\n",
    "res <- transform(res, c2=reshape::colsplit(comps.c2, split = \",\", names = c('i2', 'p2')))\n",
    "res$c2.p2 <- trimws(res$c2.p2, which='left')\n",
    "res$c1.p1 <- trimws(res$c1.p1, which='right')\n",
    "res <- res[res$c1.p1 == res$c2.p2,] %>% select(contrast:p.value)\n",
    "res$padj <- p.adjust(res$p.value, method='fdr')\n",
    "res[res$padj < 0.05,]"
   ]
  },
  {
   "cell_type": "code",
   "execution_count": 14,
   "metadata": {},
   "outputs": [
    {
     "data": {
      "text/html": [
       "<table>\n",
       "<caption>A data.frame: 2 × 7</caption>\n",
       "<thead>\n",
       "\t<tr><th></th><th scope=col>contrast</th><th scope=col>estimate</th><th scope=col>SE</th><th scope=col>df</th><th scope=col>t.ratio</th><th scope=col>p.value</th><th scope=col>padj</th></tr>\n",
       "\t<tr><th></th><th scope=col>&lt;fct&gt;</th><th scope=col>&lt;dbl&gt;</th><th scope=col>&lt;dbl&gt;</th><th scope=col>&lt;dbl&gt;</th><th scope=col>&lt;dbl&gt;</th><th scope=col>&lt;dbl&gt;</th><th scope=col>&lt;dbl&gt;</th></tr>\n",
       "</thead>\n",
       "<tbody>\n",
       "\t<tr><th scope=row>23</th><td>A,harvest - C,harvest</td><td>35.76962</td><td>8.097727</td><td>188</td><td>4.417242</td><td>0.0005621473</td><td>0.002529663</td></tr>\n",
       "\t<tr><th scope=row>27</th><td>B,harvest - C,harvest</td><td>37.26048</td><td>8.097727</td><td>188</td><td>4.601350</td><td>0.0002611489</td><td>0.002350340</td></tr>\n",
       "</tbody>\n",
       "</table>\n"
      ],
      "text/latex": [
       "A data.frame: 2 × 7\n",
       "\\begin{tabular}{r|lllllll}\n",
       "  & contrast & estimate & SE & df & t.ratio & p.value & padj\\\\\n",
       "  & <fct> & <dbl> & <dbl> & <dbl> & <dbl> & <dbl> & <dbl>\\\\\n",
       "\\hline\n",
       "\t23 & A,harvest - C,harvest & 35.76962 & 8.097727 & 188 & 4.417242 & 0.0005621473 & 0.002529663\\\\\n",
       "\t27 & B,harvest - C,harvest & 37.26048 & 8.097727 & 188 & 4.601350 & 0.0002611489 & 0.002350340\\\\\n",
       "\\end{tabular}\n"
      ],
      "text/markdown": [
       "\n",
       "A data.frame: 2 × 7\n",
       "\n",
       "| <!--/--> | contrast &lt;fct&gt; | estimate &lt;dbl&gt; | SE &lt;dbl&gt; | df &lt;dbl&gt; | t.ratio &lt;dbl&gt; | p.value &lt;dbl&gt; | padj &lt;dbl&gt; |\n",
       "|---|---|---|---|---|---|---|---|\n",
       "| 23 | A,harvest - C,harvest | 35.76962 | 8.097727 | 188 | 4.417242 | 0.0005621473 | 0.002529663 |\n",
       "| 27 | B,harvest - C,harvest | 37.26048 | 8.097727 | 188 | 4.601350 | 0.0002611489 | 0.002350340 |\n",
       "\n"
      ],
      "text/plain": [
       "   contrast              estimate SE       df  t.ratio  p.value     \n",
       "23 A,harvest - C,harvest 35.76962 8.097727 188 4.417242 0.0005621473\n",
       "27 B,harvest - C,harvest 37.26048 8.097727 188 4.601350 0.0002611489\n",
       "   padj       \n",
       "23 0.002529663\n",
       "27 0.002350340"
      ]
     },
     "metadata": {},
     "output_type": "display_data"
    },
    {
     "data": {
      "text/html": [
       "<table>\n",
       "<caption>A data.frame: 0 × 7</caption>\n",
       "<thead>\n",
       "\t<tr><th scope=col>contrast</th><th scope=col>estimate</th><th scope=col>SE</th><th scope=col>df</th><th scope=col>t.ratio</th><th scope=col>p.value</th><th scope=col>padj</th></tr>\n",
       "\t<tr><th scope=col>&lt;fct&gt;</th><th scope=col>&lt;dbl&gt;</th><th scope=col>&lt;dbl&gt;</th><th scope=col>&lt;dbl&gt;</th><th scope=col>&lt;dbl&gt;</th><th scope=col>&lt;dbl&gt;</th><th scope=col>&lt;dbl&gt;</th></tr>\n",
       "</thead>\n",
       "<tbody>\n",
       "</tbody>\n",
       "</table>\n"
      ],
      "text/latex": [
       "A data.frame: 0 × 7\n",
       "\\begin{tabular}{r|lllllll}\n",
       " contrast & estimate & SE & df & t.ratio & p.value & padj\\\\\n",
       " <fct> & <dbl> & <dbl> & <dbl> & <dbl> & <dbl> & <dbl>\\\\\n",
       "\\hline\n",
       "\\end{tabular}\n"
      ],
      "text/markdown": [
       "\n",
       "A data.frame: 0 × 7\n",
       "\n",
       "| contrast &lt;fct&gt; | estimate &lt;dbl&gt; | SE &lt;dbl&gt; | df &lt;dbl&gt; | t.ratio &lt;dbl&gt; | p.value &lt;dbl&gt; | padj &lt;dbl&gt; |\n",
       "|---|---|---|---|---|---|---|\n",
       "\n"
      ],
      "text/plain": [
       "     contrast estimate SE df t.ratio p.value padj"
      ]
     },
     "metadata": {},
     "output_type": "display_data"
    },
    {
     "data": {
      "text/html": [
       "<table>\n",
       "<caption>A data.frame: 3 × 7</caption>\n",
       "<thead>\n",
       "\t<tr><th></th><th scope=col>contrast</th><th scope=col>estimate</th><th scope=col>SE</th><th scope=col>df</th><th scope=col>t.ratio</th><th scope=col>p.value</th><th scope=col>padj</th></tr>\n",
       "\t<tr><th></th><th scope=col>&lt;fct&gt;</th><th scope=col>&lt;dbl&gt;</th><th scope=col>&lt;dbl&gt;</th><th scope=col>&lt;dbl&gt;</th><th scope=col>&lt;dbl&gt;</th><th scope=col>&lt;dbl&gt;</th><th scope=col>&lt;dbl&gt;</th></tr>\n",
       "</thead>\n",
       "<tbody>\n",
       "\t<tr><th scope=row>22</th><td>A,harvest - B,harvest</td><td>1.862093</td><td>0.3766987</td><td>189</td><td> 4.943188</td><td>5.852663e-05</td><td>1.755799e-04</td></tr>\n",
       "\t<tr><th scope=row>23</th><td>A,harvest - C,harvest</td><td>4.103316</td><td>0.3766987</td><td>189</td><td>10.892832</td><td>0.000000e+00</td><td>0.000000e+00</td></tr>\n",
       "\t<tr><th scope=row>27</th><td>B,harvest - C,harvest</td><td>2.241223</td><td>0.3766987</td><td>189</td><td> 5.949644</td><td>4.562499e-07</td><td>2.053124e-06</td></tr>\n",
       "</tbody>\n",
       "</table>\n"
      ],
      "text/latex": [
       "A data.frame: 3 × 7\n",
       "\\begin{tabular}{r|lllllll}\n",
       "  & contrast & estimate & SE & df & t.ratio & p.value & padj\\\\\n",
       "  & <fct> & <dbl> & <dbl> & <dbl> & <dbl> & <dbl> & <dbl>\\\\\n",
       "\\hline\n",
       "\t22 & A,harvest - B,harvest & 1.862093 & 0.3766987 & 189 &  4.943188 & 5.852663e-05 & 1.755799e-04\\\\\n",
       "\t23 & A,harvest - C,harvest & 4.103316 & 0.3766987 & 189 & 10.892832 & 0.000000e+00 & 0.000000e+00\\\\\n",
       "\t27 & B,harvest - C,harvest & 2.241223 & 0.3766987 & 189 &  5.949644 & 4.562499e-07 & 2.053124e-06\\\\\n",
       "\\end{tabular}\n"
      ],
      "text/markdown": [
       "\n",
       "A data.frame: 3 × 7\n",
       "\n",
       "| <!--/--> | contrast &lt;fct&gt; | estimate &lt;dbl&gt; | SE &lt;dbl&gt; | df &lt;dbl&gt; | t.ratio &lt;dbl&gt; | p.value &lt;dbl&gt; | padj &lt;dbl&gt; |\n",
       "|---|---|---|---|---|---|---|---|\n",
       "| 22 | A,harvest - B,harvest | 1.862093 | 0.3766987 | 189 |  4.943188 | 5.852663e-05 | 1.755799e-04 |\n",
       "| 23 | A,harvest - C,harvest | 4.103316 | 0.3766987 | 189 | 10.892832 | 0.000000e+00 | 0.000000e+00 |\n",
       "| 27 | B,harvest - C,harvest | 2.241223 | 0.3766987 | 189 |  5.949644 | 4.562499e-07 | 2.053124e-06 |\n",
       "\n"
      ],
      "text/plain": [
       "   contrast              estimate SE        df  t.ratio   p.value     \n",
       "22 A,harvest - B,harvest 1.862093 0.3766987 189  4.943188 5.852663e-05\n",
       "23 A,harvest - C,harvest 4.103316 0.3766987 189 10.892832 0.000000e+00\n",
       "27 B,harvest - C,harvest 2.241223 0.3766987 189  5.949644 4.562499e-07\n",
       "   padj        \n",
       "22 1.755799e-04\n",
       "23 0.000000e+00\n",
       "27 2.053124e-06"
      ]
     },
     "metadata": {},
     "output_type": "display_data"
    },
    {
     "data": {
      "text/html": [
       "<table>\n",
       "<caption>A data.frame: 0 × 7</caption>\n",
       "<thead>\n",
       "\t<tr><th scope=col>contrast</th><th scope=col>estimate</th><th scope=col>SE</th><th scope=col>df</th><th scope=col>t.ratio</th><th scope=col>p.value</th><th scope=col>padj</th></tr>\n",
       "\t<tr><th scope=col>&lt;fct&gt;</th><th scope=col>&lt;dbl&gt;</th><th scope=col>&lt;dbl&gt;</th><th scope=col>&lt;dbl&gt;</th><th scope=col>&lt;dbl&gt;</th><th scope=col>&lt;dbl&gt;</th><th scope=col>&lt;dbl&gt;</th></tr>\n",
       "</thead>\n",
       "<tbody>\n",
       "</tbody>\n",
       "</table>\n"
      ],
      "text/latex": [
       "A data.frame: 0 × 7\n",
       "\\begin{tabular}{r|lllllll}\n",
       " contrast & estimate & SE & df & t.ratio & p.value & padj\\\\\n",
       " <fct> & <dbl> & <dbl> & <dbl> & <dbl> & <dbl> & <dbl>\\\\\n",
       "\\hline\n",
       "\\end{tabular}\n"
      ],
      "text/markdown": [
       "\n",
       "A data.frame: 0 × 7\n",
       "\n",
       "| contrast &lt;fct&gt; | estimate &lt;dbl&gt; | SE &lt;dbl&gt; | df &lt;dbl&gt; | t.ratio &lt;dbl&gt; | p.value &lt;dbl&gt; | padj &lt;dbl&gt; |\n",
       "|---|---|---|---|---|---|---|\n",
       "\n"
      ],
      "text/plain": [
       "     contrast estimate SE df t.ratio p.value padj"
      ]
     },
     "metadata": {},
     "output_type": "display_data"
    }
   ],
   "source": [
    "ci.emm <- emmeans(models[[1]], ~Block:Phenology)\n",
    "res <- pairs(ci.emm)\n",
    "res <- as.data.frame(res)\n",
    "res <- transform(res, comps=reshape::colsplit(contrast, split = \"-\", names = c('c1', 'c2')))\n",
    "res <- transform(res, c1=reshape::colsplit(comps.c1, split = \",\", names = c('i1', 'p1')))\n",
    "res <- transform(res, c2=reshape::colsplit(comps.c2, split = \",\", names = c('i2', 'p2')))\n",
    "res$c2.p2 <- trimws(res$c2.p2, which='left')\n",
    "res$c1.p1 <- trimws(res$c1.p1, which='right')\n",
    "res <- res[res$c1.p1 == res$c2.p2,] %>% select(contrast:p.value)\n",
    "res$padj <- p.adjust(res$p.value, method='fdr')\n",
    "res[res$padj < 0.05,]\n",
    "\n",
    "\n",
    "cond.emm <- emmeans(cond_model, ~Block:Phenology)\n",
    "res <- pairs(cond.emm)\n",
    "res <- as.data.frame(res)\n",
    "res <- transform(res, comps=reshape::colsplit(contrast, split = \"-\", names = c('c1', 'c2')))\n",
    "res <- transform(res, c1=reshape::colsplit(comps.c1, split = \",\", names = c('i1', 'p1')))\n",
    "res <- transform(res, c2=reshape::colsplit(comps.c2, split = \",\", names = c('i2', 'p2')))\n",
    "res$c2.p2 <- trimws(res$c2.p2, which='left')\n",
    "res$c1.p1 <- trimws(res$c1.p1, which='right')\n",
    "res <- res[res$c1.p1 == res$c2.p2,] %>% select(contrast:p.value)\n",
    "res$padj <- p.adjust(res$p.value, method='fdr')\n",
    "res[res$padj < 0.05,]\n",
    "\n",
    "trmmol.emm <- emmeans(trmmol_model, ~Block:Phenology)\n",
    "res <- pairs(trmmol.emm)\n",
    "res <- as.data.frame(res)\n",
    "res <- transform(res, comps=reshape::colsplit(contrast, split = \"-\", names = c('c1', 'c2')))\n",
    "res <- transform(res, c1=reshape::colsplit(comps.c1, split = \",\", names = c('i1', 'p1')))\n",
    "res <- transform(res, c2=reshape::colsplit(comps.c2, split = \",\", names = c('i2', 'p2')))\n",
    "res$c2.p2 <- trimws(res$c2.p2, which='left')\n",
    "res$c1.p1 <- trimws(res$c1.p1, which='right')\n",
    "res <- res[res$c1.p1 == res$c2.p2,] %>% select(contrast:p.value)\n",
    "res$padj <- p.adjust(res$p.value, method='fdr')\n",
    "res[res$padj < 0.05,]\n",
    "\n",
    "wP.emm <- emmeans(models[[4]], ~Block:Phenology)\n",
    "res <- pairs(wP.emm)\n",
    "res <- as.data.frame(res)\n",
    "res <- transform(res, comps=reshape::colsplit(contrast, split = \"-\", names = c('c1', 'c2')))\n",
    "res <- transform(res, c1=reshape::colsplit(comps.c1, split = \",\", names = c('i1', 'p1')))\n",
    "res <- transform(res, c2=reshape::colsplit(comps.c2, split = \",\", names = c('i2', 'p2')))\n",
    "res$c2.p2 <- trimws(res$c2.p2, which='left')\n",
    "res$c1.p1 <- trimws(res$c1.p1, which='right')\n",
    "res <- res[res$c1.p1 == res$c2.p2,] %>% select(contrast:p.value)\n",
    "res$padj <- p.adjust(res$p.value, method='fdr')\n",
    "res[res$padj < 0.05,]"
   ]
  },
  {
   "cell_type": "code",
   "execution_count": null,
   "metadata": {},
   "outputs": [],
   "source": [
    "\n"
   ]
  },
  {
   "cell_type": "code",
   "execution_count": null,
   "metadata": {},
   "outputs": [],
   "source": []
  },
  {
   "cell_type": "markdown",
   "metadata": {},
   "source": [
    "## Graphs"
   ]
  },
  {
   "cell_type": "code",
   "execution_count": null,
   "metadata": {},
   "outputs": [],
   "source": []
  },
  {
   "cell_type": "code",
   "execution_count": 17,
   "metadata": {},
   "outputs": [
    {
     "name": "stderr",
     "output_type": "stream",
     "text": [
      "Warning message:\n",
      "“Removed 1 rows containing non-finite values (stat_boxplot).”Warning message:\n",
      "“Removed 1 rows containing non-finite values (stat_boxplot).”Warning message:\n",
      "“Removed 1 rows containing non-finite values (stat_boxplot).”"
     ]
    },
    {
     "data": {
      "text/html": [
       "<strong>png:</strong> 2"
      ],
      "text/latex": [
       "\\textbf{png:} 2"
      ],
      "text/markdown": [
       "**png:** 2"
      ],
      "text/plain": [
       "png \n",
       "  2 "
      ]
     },
     "metadata": {},
     "output_type": "display_data"
    }
   ],
   "source": [
    "rs_c_pal <- c(\"gray\",\"#1b9e77\", \"#7570b3\", \"#e6ab02\")\n",
    "\n",
    "pdf('2017_physiology_boxplots_rs_phenology.pdf', onefile=T)\n",
    "for (idx in 1:length(vars)){\n",
    "    # get element name at index\n",
    "    element <- vars[idx]\n",
    "    \n",
    "    # get raw data\n",
    "    d <- df[,c('sampleName', 'Irrigation', 'Block', 'Rootstock', 'Phenology', element)]\n",
    "    \n",
    "    # remove outliers\n",
    "    d <- anomalize(as_tibble(d), target=element, method='iqr', alpha=0.03, max_anoms=0.1)\n",
    "    d <- d[d$anomaly != 'Yes',]\n",
    "    d <- d %>% mutate(Rootstock = fct_relevel(Rootstock, \"Own\",\"1103P\", \"3309C\", \"SO4\"),\n",
    "                      Phenology = fct_relevel(Phenology, \"anthesis\", \"veraison\", \"harvest\"))\n",
    "    levels(d$Phenology) <- c('Anthesis', 'Veraison', 'Harvest')\n",
    "    p <- ggplot(d, aes_string(x='Rootstock', y=element, fill='Rootstock')) + \n",
    "         geom_boxplot() +\n",
    "         scale_fill_manual(name='Rootstock', values=rs_c_pal, labels=c('Ungrafted', '1103P', '3309C', 'SO4')) +\n",
    "         scale_x_discrete(name='Rootstock', labels=c('Ungrafted', '1103P', '3309C', 'SO4')) + \n",
    "         facet_wrap('Phenology') + theme(panel.grid.major.x = element_blank(), panel.grid.minor.y = element_blank()) + theme_bw() + theme(axis.text.x = element_text(angle = 90, hjust = 1))\n",
    "    print(p)\n",
    "}\n",
    "dev.off()"
   ]
  },
  {
   "cell_type": "code",
   "execution_count": 165,
   "metadata": {},
   "outputs": [
    {
     "name": "stderr",
     "output_type": "stream",
     "text": [
      "Warning message:\n",
      "“Removed 1 rows containing non-finite values (stat_boxplot).”Warning message:\n",
      "“Removed 1 rows containing non-finite values (stat_boxplot).”Warning message:\n",
      "“Removed 1 rows containing non-finite values (stat_boxplot).”"
     ]
    },
    {
     "data": {
      "text/html": [
       "<strong>png:</strong> 2"
      ],
      "text/latex": [
       "\\textbf{png:} 2"
      ],
      "text/markdown": [
       "**png:** 2"
      ],
      "text/plain": [
       "png \n",
       "  2 "
      ]
     },
     "metadata": {},
     "output_type": "display_data"
    }
   ],
   "source": [
    "pdf('2017_physiology_boxplots_rs.pdf', onefile=T)\n",
    "for (idx in 1:length(vars)){\n",
    "    # get element name at index\n",
    "    element <- vars[idx]\n",
    "    \n",
    "    # get raw data\n",
    "    d <- df[,c('sampleName', 'Irrigation', 'Block', 'Rootstock', 'Phenology', element)]\n",
    "    \n",
    "    # remove outliers\n",
    "    d <- anomalize(as_tibble(d), target=element, method='iqr', alpha=0.03, max_anoms=0.1)\n",
    "    d <- d[d$anomaly != 'Yes',]\n",
    "    d <- d %>% mutate(Rootstock = fct_relevel(Rootstock, \"Own\",\"1103P\", \"3309C\", \"SO4\"),\n",
    "                      Phenology = fct_relevel(Phenology, \"anthesis\", \"veraison\", \"harvest\"))\n",
    "    p <- ggplot(d, aes_string(x='Rootstock', y=element, fill='Rootstock')) + \n",
    "         geom_boxplot() +\n",
    "         scale_fill_manual(name='Rootstock', values=rs_c_pal, labels=c('Ungrafted', '1103P', '3309C', 'SO4')) +\n",
    "         scale_x_discrete(name='Rootstock', labels=c('Ungrafted', '1103P', '3309C', 'SO4')) + \n",
    "         theme(panel.grid.major.x = element_blank(), panel.grid.minor.y = element_blank()) + theme_bw() + theme(axis.text.x = element_text(angle = 90, hjust = 1))\n",
    "    print(p)\n",
    "}\n",
    "dev.off()"
   ]
  },
  {
   "cell_type": "code",
   "execution_count": 166,
   "metadata": {},
   "outputs": [
    {
     "name": "stderr",
     "output_type": "stream",
     "text": [
      "Warning message:\n",
      "“Removed 1 rows containing non-finite values (stat_boxplot).”Warning message:\n",
      "“Removed 1 rows containing non-finite values (stat_boxplot).”Warning message:\n",
      "“Removed 1 rows containing non-finite values (stat_boxplot).”"
     ]
    },
    {
     "data": {
      "text/html": [
       "<strong>png:</strong> 2"
      ],
      "text/latex": [
       "\\textbf{png:} 2"
      ],
      "text/markdown": [
       "**png:** 2"
      ],
      "text/plain": [
       "png \n",
       "  2 "
      ]
     },
     "metadata": {},
     "output_type": "display_data"
    }
   ],
   "source": [
    "time_c_pal <- c('orchid1', 'purple1', 'darkorchid4')\n",
    "\n",
    "pdf('2017_physiology_boxplots_phenology.pdf', onefile=T)\n",
    "for (idx in 1:length(vars)){\n",
    "    # get element name at index\n",
    "    element <- vars[idx]\n",
    "    \n",
    "    # get raw data\n",
    "    d <- df[,c('sampleName', 'Irrigation', 'Block', 'Rootstock', 'Phenology', element)]\n",
    "    \n",
    "    # remove outliers\n",
    "    d <- anomalize(as_tibble(d), target=element, method='iqr', alpha=0.03, max_anoms=0.1)\n",
    "    d <- d[d$anomaly != 'Yes',]\n",
    "    d <- d %>% mutate(Phenology = fct_relevel(Phenology, \"anthesis\", \"veraison\", \"harvest\"))\n",
    "    p <- ggplot(d, aes_string(x='Phenology', y=element, fill='Phenology')) + \n",
    "         geom_boxplot() +\n",
    "         scale_fill_manual(name='Phenology', values=time_c_pal, labels=c('Anthesis', 'Veraison', 'Harvest')) +\n",
    "         scale_x_discrete(name='Phenology', labels=c('Anthesis', 'Veraison', 'Harvest')) + \n",
    "         theme(panel.grid.major.x = element_blank(), panel.grid.minor.y = element_blank()) + theme_bw() + theme(axis.text.x = element_text(angle = 90, hjust = 1))\n",
    "    print(p)\n",
    "}\n",
    "dev.off()"
   ]
  },
  {
   "cell_type": "code",
   "execution_count": 167,
   "metadata": {},
   "outputs": [
    {
     "name": "stderr",
     "output_type": "stream",
     "text": [
      "Warning message:\n",
      "“Removed 1 rows containing non-finite values (stat_boxplot).”Warning message:\n",
      "“Removed 1 rows containing non-finite values (stat_boxplot).”Warning message:\n",
      "“Removed 1 rows containing non-finite values (stat_boxplot).”"
     ]
    },
    {
     "data": {
      "text/html": [
       "<strong>png:</strong> 2"
      ],
      "text/latex": [
       "\\textbf{png:} 2"
      ],
      "text/markdown": [
       "**png:** 2"
      ],
      "text/plain": [
       "png \n",
       "  2 "
      ]
     },
     "metadata": {},
     "output_type": "display_data"
    }
   ],
   "source": [
    "block_pal <- c('#ffd4a3', '#ffaa5e', '#d08159')\n",
    "\n",
    "pdf('2017_physiology_boxplots_block.pdf', onefile=T)\n",
    "for (idx in 1:length(vars)){\n",
    "    # get element name at index\n",
    "    element <- vars[idx]\n",
    "    \n",
    "    # get raw data\n",
    "    d <- df[,c('sampleName', 'Irrigation', 'Block', 'Rootstock', 'Phenology', element)]\n",
    "    \n",
    "    # remove outliers\n",
    "    d <- anomalize(as_tibble(d), target=element, method='iqr', alpha=0.03, max_anoms=0.1)\n",
    "    d <- d[d$anomaly != 'Yes',]\n",
    "    d <- d %>% mutate(Phenology = fct_relevel(Phenology, \"anthesis\", \"veraison\", \"harvest\"))\n",
    "    p <- ggplot(d, aes_string(x='Block', y=element, fill='Block')) + \n",
    "         geom_boxplot() +\n",
    "         scale_fill_manual(name='Block', values=block_pal, labels=c('A', 'B', 'C')) +\n",
    "         scale_x_discrete(name='Block', labels=c('A', 'B', 'C')) + \n",
    "         theme(panel.grid.major.x = element_blank(), panel.grid.minor.y = element_blank()) + theme_bw() + theme(axis.text.x = element_text(angle = 0, hjust = 1))\n",
    "    print(p)\n",
    "}\n",
    "dev.off()"
   ]
  },
  {
   "cell_type": "code",
   "execution_count": 168,
   "metadata": {},
   "outputs": [
    {
     "name": "stderr",
     "output_type": "stream",
     "text": [
      "Warning message:\n",
      "“Removed 1 rows containing non-finite values (stat_boxplot).”Warning message:\n",
      "“Removed 1 rows containing non-finite values (stat_boxplot).”Warning message:\n",
      "“Removed 1 rows containing non-finite values (stat_boxplot).”"
     ]
    },
    {
     "data": {
      "text/html": [
       "<strong>png:</strong> 2"
      ],
      "text/latex": [
       "\\textbf{png:} 2"
      ],
      "text/markdown": [
       "**png:** 2"
      ],
      "text/plain": [
       "png \n",
       "  2 "
      ]
     },
     "metadata": {},
     "output_type": "display_data"
    }
   ],
   "source": [
    "block_pal <- c('#ffd4a3', '#ffaa5e', '#d08159')\n",
    "\n",
    "pdf('2017_physiology_boxplots_block_phenology.pdf', onefile=T)\n",
    "for (idx in 1:length(vars)){\n",
    "    # get element name at index\n",
    "    element <- vars[idx]\n",
    "    \n",
    "    # get raw data\n",
    "    d <- df[,c('sampleName', 'Irrigation', 'Block', 'Rootstock', 'Phenology', element)]\n",
    "    \n",
    "    # remove outliers\n",
    "    d <- anomalize(as_tibble(d), target=element, method='iqr', alpha=0.03, max_anoms=0.1)\n",
    "    d <- d[d$anomaly != 'Yes',]\n",
    "    d <- d %>% mutate(Phenology = fct_relevel(Phenology, \"anthesis\", \"veraison\", \"harvest\"))\n",
    "    p <- ggplot(d, aes_string(x='Block', y=element, fill='Block')) + \n",
    "         geom_boxplot() +\n",
    "         scale_fill_manual(name='Block', values=block_pal, labels=c('A', 'B', 'C')) +\n",
    "         scale_x_discrete(name='Block', labels=c('A', 'B', 'C')) + \n",
    "         theme(panel.grid.major.x = element_blank(), panel.grid.minor.y = element_blank()) + theme_bw() + theme(axis.text.x = element_text(angle = 0, hjust = 1)) + \n",
    "    facet_wrap('Phenology') + theme(panel.grid.major.x = element_blank(), panel.grid.minor.y = element_blank()) + theme_bw() + theme(axis.text.x = element_text(angle = 90, hjust = 1))\n",
    "    print(p)\n",
    "}\n",
    "dev.off()"
   ]
  },
  {
   "cell_type": "markdown",
   "metadata": {},
   "source": [
    "## Main Physiology Figure"
   ]
  },
  {
   "cell_type": "code",
   "execution_count": 48,
   "metadata": {},
   "outputs": [
    {
     "name": "stderr",
     "output_type": "stream",
     "text": [
      "Warning message:\n",
      "“Removed 1 rows containing non-finite values (stat_boxplot).”Warning message:\n",
      "“Removed 1 rows containing non-finite values (stat_boxplot).”Warning message:\n",
      "“Removed 1 rows containing non-finite values (stat_boxplot).”"
     ]
    },
    {
     "data": {
      "text/html": [
       "<strong>png:</strong> 2"
      ],
      "text/latex": [
       "\\textbf{png:} 2"
      ],
      "text/markdown": [
       "**png:** 2"
      ],
      "text/plain": [
       "png \n",
       "  2 "
      ]
     },
     "metadata": {},
     "output_type": "display_data"
    }
   ],
   "source": [
    "physFigA <- t\n",
    "\n",
    "d <- df[,c('sampleName', 'Block', 'Rootstock', 'Phenology', 'Trmmol')]\n",
    "# remove outliers\n",
    "d <- anomalize(as_tibble(d), target=Trmmol, method='iqr', alpha=0.03, max_anoms=0.1)\n",
    "d <- d[d$anomaly != 'Yes',]\n",
    "d$Phenology <- factor(d$Phenology, levels=c('anthesis', 'veraison', 'harvest'), labels=c('Anthesis', 'Veraison', 'Harvest'))\n",
    "d$Rootstock <- factor(d$Rootstock, levels=c('Own', '1103P', '3309C', 'SO4'), labels=c('Ungrafted', '1103P', '3309C', 'SO4'))\n",
    "\n",
    "\n",
    "physFigB <- ggplot(d, aes_string(x='Rootstock', y='Trmmol', fill='Rootstock')) + \n",
    "     geom_boxplot() +\n",
    "     scale_fill_manual(name='Rootstock', values=rs_c_pal, labels=c('Ungrafted', '1103P', '3309C', 'SO4')) +\n",
    "     scale_x_discrete(name='Rootstock', labels=c('Ungrafted', '1103P', '3309C', 'SO4')) + \n",
    "     ylab(bquote('Leaf Transpiration Rate (mmol' ~H[2]* 'O' ~m^-2 ~s^-1*')')) + \n",
    "     facet_wrap('Phenology') +\n",
    "     theme_bw() + \n",
    "     theme(panel.grid.major.x = element_blank(), panel.grid.minor.y = element_blank()) +  \n",
    "     theme(axis.text.x = element_text(angle = 45, hjust = 1))\n",
    "           \n",
    "d <- df[,c('sampleName', 'Block', 'Rootstock', 'Phenology', 'Cond')]\n",
    "# remove outliers\n",
    "d <- anomalize(as_tibble(d), target=Cond, method='iqr', alpha=0.03, max_anoms=0.1)\n",
    "d <- d[d$anomaly != 'Yes',]\n",
    "d$Phenology <- factor(d$Phenology, levels=c('anthesis', 'veraison', 'harvest'), labels=c('Anthesis', 'Veraison', 'Harvest'))\n",
    "d$Rootstock <- factor(d$Rootstock, levels=c('Own', '1103P', '3309C', 'SO4'), labels=c('Ungrafted', '1103P', '3309C', 'S04'))\n",
    "\n",
    "physFigC <- ggplot(d, aes_string(x='Rootstock', y='Cond', fill='Rootstock')) + \n",
    "     geom_boxplot() +\n",
    "     scale_fill_manual(name='Rootstock', values=rs_c_pal) +\n",
    "     scale_x_discrete(name='Rootstock')+\n",
    "     ylab(bquote('Stomatal Conductance ('*~mol ~m^-2 ~s^-1*')')) + \n",
    "     theme(panel.grid.major.x = element_blank(), panel.grid.minor.y = element_blank()) + theme_bw() + theme(axis.text.x = element_text(angle = 0, hjust = 1)) + \n",
    "     facet_wrap('Phenology') + theme(panel.grid.major.x = element_blank(), panel.grid.minor.y = element_blank()) + theme_bw() + theme(axis.text.x = element_text(angle = 45, hjust = 1))\n",
    "\n",
    "tmp <- ggpubr::ggarrange(physFigB, physFigC, labels=c('B', 'C'), ncol=2, nrow=1, common.legend=T, legend='right')\n",
    "\n",
    "pdf('2017_physiology_mainFigure_2.pdf', width=8, height=8)\n",
    "   ggpubr::ggarrange(physFigA, tmp, labels=c('A', ''), ncol=1, nrow=2, legend='right')\n",
    "dev.off()"
   ]
  },
  {
   "cell_type": "markdown",
   "metadata": {},
   "source": [
    "## Supplmental Note Figures and Stats"
   ]
  },
  {
   "cell_type": "code",
   "execution_count": 17,
   "metadata": {},
   "outputs": [
    {
     "data": {
      "image/png": "[encoded data removed]",
      "text/plain": [
       "plot without title"
      ]
     },
     "metadata": {},
     "output_type": "display_data"
    }
   ],
   "source": [
    "# row\n",
    "\n",
    "row_pal <- viridisLite::viridis(9)\n",
    "\n",
    "# get raw data\n",
    "d <- df[,c('Row', 'sampleName', 'Block', 'Phenology', 'waterPotential')]\n",
    "\n",
    "# remove outliers\n",
    "d <- anomalize(as_tibble(d), target='waterPotential', method='iqr', alpha=0.03, max_anoms=0.1)\n",
    "d <- d[d$anomaly != 'Yes',]\n",
    "d <- d %>% mutate(Phenology = fct_relevel(Phenology, \"anthesis\", \"veraison\", \"harvest\"))\n",
    "d$Row <- as.factor(d$Row)\n",
    "p <- ggplot(d, aes_string(x='Row', y='waterPotential', fill='Row')) + \n",
    "     geom_boxplot() +\n",
    "     scale_fill_manual(name='Row', values=row_pal) + #, labels=c('8', '2', '3', '4', '5', '6', '7', '8', '9')) +\n",
    "     #scale_x_discrete(name='Row'), labels=c('1', '2', '3', '4', '5', '6', '7', '8', '9')) + \n",
    "     theme(panel.grid.major.x = element_blank(), panel.grid.minor.y = element_blank()) + theme_bw() + theme(axis.text.x = element_text(angle = 0, hjust = 1)) + \n",
    "     theme(panel.grid.major.x = element_blank(), panel.grid.minor.y = element_blank()) + theme_bw() + theme(axis.text.x = element_text(angle = 90, hjust = 1))\n",
    "print(p)"
   ]
  },
  {
   "cell_type": "code",
   "execution_count": 91,
   "metadata": {},
   "outputs": [
    {
     "data": {
      "text/html": [
       "<table>\n",
       "<caption>A data.frame: 6 × 6</caption>\n",
       "<thead>\n",
       "\t<tr><th scope=col>Row</th><th scope=col>sampleName</th><th scope=col>Irrigation</th><th scope=col>Block</th><th scope=col>Phenology</th><th scope=col>waterPotential</th></tr>\n",
       "\t<tr><th scope=col>&lt;fct&gt;</th><th scope=col>&lt;fct&gt;</th><th scope=col>&lt;fct&gt;</th><th scope=col>&lt;fct&gt;</th><th scope=col>&lt;fct&gt;</th><th scope=col>&lt;dbl&gt;</th></tr>\n",
       "</thead>\n",
       "<tbody>\n",
       "\t<tr><td>8</td><td>A1Y1_001_L</td><td>none</td><td>A</td><td>anthesis</td><td> 9.50</td></tr>\n",
       "\t<tr><td>8</td><td>A1Y1_002_L</td><td>none</td><td>A</td><td>anthesis</td><td>12.50</td></tr>\n",
       "\t<tr><td>8</td><td>A1Y1_003_L</td><td>none</td><td>A</td><td>anthesis</td><td>12.60</td></tr>\n",
       "\t<tr><td>8</td><td>A1Y1_004_L</td><td>none</td><td>A</td><td>anthesis</td><td>10.50</td></tr>\n",
       "\t<tr><td>8</td><td>A1Y1_005_L</td><td>none</td><td>A</td><td>anthesis</td><td> 8.00</td></tr>\n",
       "\t<tr><td>8</td><td>A1Y1_006_L</td><td>none</td><td>A</td><td>anthesis</td><td>10.75</td></tr>\n",
       "</tbody>\n",
       "</table>\n"
      ],
      "text/latex": [
       "A data.frame: 6 × 6\n",
       "\\begin{tabular}{r|llllll}\n",
       " Row & sampleName & Irrigation & Block & Phenology & waterPotential\\\\\n",
       " <fct> & <fct> & <fct> & <fct> & <fct> & <dbl>\\\\\n",
       "\\hline\n",
       "\t 8 & A1Y1\\_001\\_L & none & A & anthesis &  9.50\\\\\n",
       "\t 8 & A1Y1\\_002\\_L & none & A & anthesis & 12.50\\\\\n",
       "\t 8 & A1Y1\\_003\\_L & none & A & anthesis & 12.60\\\\\n",
       "\t 8 & A1Y1\\_004\\_L & none & A & anthesis & 10.50\\\\\n",
       "\t 8 & A1Y1\\_005\\_L & none & A & anthesis &  8.00\\\\\n",
       "\t 8 & A1Y1\\_006\\_L & none & A & anthesis & 10.75\\\\\n",
       "\\end{tabular}\n"
      ],
      "text/markdown": [
       "\n",
       "A data.frame: 6 × 6\n",
       "\n",
       "| Row &lt;fct&gt; | sampleName &lt;fct&gt; | Irrigation &lt;fct&gt; | Block &lt;fct&gt; | Phenology &lt;fct&gt; | waterPotential &lt;dbl&gt; |\n",
       "|---|---|---|---|---|---|\n",
       "| 8 | A1Y1_001_L | none | A | anthesis |  9.50 |\n",
       "| 8 | A1Y1_002_L | none | A | anthesis | 12.50 |\n",
       "| 8 | A1Y1_003_L | none | A | anthesis | 12.60 |\n",
       "| 8 | A1Y1_004_L | none | A | anthesis | 10.50 |\n",
       "| 8 | A1Y1_005_L | none | A | anthesis |  8.00 |\n",
       "| 8 | A1Y1_006_L | none | A | anthesis | 10.75 |\n",
       "\n"
      ],
      "text/plain": [
       "  Row sampleName Irrigation Block Phenology waterPotential\n",
       "1 8   A1Y1_001_L none       A     anthesis   9.50         \n",
       "2 8   A1Y1_002_L none       A     anthesis  12.50         \n",
       "3 8   A1Y1_003_L none       A     anthesis  12.60         \n",
       "4 8   A1Y1_004_L none       A     anthesis  10.50         \n",
       "5 8   A1Y1_005_L none       A     anthesis   8.00         \n",
       "6 8   A1Y1_006_L none       A     anthesis  10.75         "
      ]
     },
     "metadata": {},
     "output_type": "display_data"
    },
    {
     "data": {
      "image/png": "[encoded data removed]",
      "text/plain": [
       "plot without title"
      ]
     },
     "metadata": {},
     "output_type": "display_data"
    }
   ],
   "source": [
    "# row by phenology\n",
    "\n",
    "row_pal <- viridisLite::viridis(9)\n",
    "irr_c_pal <- c('grey', 'lightblue', 'darkblue')\n",
    "\n",
    "# get raw data\n",
    "d <- df[,c('Row', 'sampleName', 'Irrigation', 'Block', 'Phenology', 'waterPotential')]\n",
    "head(d)\n",
    "# remove outliers\n",
    "d <- anomalize(as_tibble(d), target='waterPotential', method='iqr', alpha=0.03, max_anoms=0.1)\n",
    "d <- d[d$anomaly != 'Yes',]\n",
    "d <- d %>% mutate(Phenology = fct_relevel(Phenology, \"anthesis\", \"veraison\", \"harvest\")) %>%\n",
    "           mutate(Irrigation=fct_relevel(Irrigation, 'none', 'RDI', 'full'))\n",
    "d$Row <- as.factor(d$Row)\n",
    "snFig1c <- ggplot(d, aes_string(x='Irrigation', y='waterPotential', fill='Irrigation')) + \n",
    "     geom_boxplot() +\n",
    "     scale_fill_manual(name='Irrigation', values=irr_c_pal) + #, labels=c('1', '2', '3', '4', '5', '6', '7', '8', '9')) +\n",
    "     #scale_x_discrete(name='Row', labels=c('1', '2', '3', '4', '5', '6', '7', '8', '9')) + \n",
    "     ylab(bquote('Water Potential ('*mol ~ m^-2 ~ s^-1*')')) + \n",
    "     geom_hline(yintercept=9, lty=2, size=1, color='red') + \n",
    "     geom_hline(yintercept=13, lty=1, color='red', size=1) +\n",
    "     theme(panel.grid.major.x = element_blank(), panel.grid.minor.y = element_blank()) + theme_bw() + theme(axis.text.x = element_text(angle = 0, hjust = 1)) + \n",
    "     facet_wrap('Phenology') + theme(panel.grid.major.x = element_blank(), panel.grid.minor.y = element_blank()) + theme_bw() + theme(axis.text.x = element_text(angle = 90, hjust = 1))\n",
    "print(snFig1c)"
   ]
  },
  {
   "cell_type": "code",
   "execution_count": 79,
   "metadata": {},
   "outputs": [
    {
     "data": {
      "image/png": "[encoded data removed]",
      "text/plain": [
       "plot without title"
      ]
     },
     "metadata": {},
     "output_type": "display_data"
    },
    {
     "data": {
      "image/png": "[encoded data removed]",
      "text/plain": [
       "plot without title"
      ]
     },
     "metadata": {},
     "output_type": "display_data"
    }
   ],
   "source": [
    "# get raw data\n",
    "d <- df[,c('Row', 'Irrigation', 'sampleName', 'Block', 'Phenology', 'soilMoisture')]\n",
    "\n",
    "\n",
    "\n",
    "# remove outliers\n",
    "d <- anomalize(as_tibble(d), target='soilMoisture', method='iqr', alpha=0.03, max_anoms=0.1)\n",
    "d <- d[d$anomaly != 'Yes',]\n",
    "d <- d %>% mutate(Phenology = fct_relevel(Phenology, \"anthesis\", \"veraison\", \"harvest\")) %>%\n",
    "           mutate(Irrigation=fct_relevel(Irrigation, 'none', 'RDI', 'full'))\n",
    "d$Row <- as.factor(d$Row)\n",
    "\n",
    "p <- ggplot(d, aes_string(x='Row', y='soilMoisture', fill='Row')) + \n",
    "     geom_boxplot() +\n",
    "     scale_fill_manual(name='Row', values=row_pal) + \n",
    "     theme(panel.grid.major.x = element_blank(), panel.grid.minor.y = element_blank()) + theme_bw() + theme(axis.text.x = element_text(angle = 0, hjust = 1)) + \n",
    "     theme(panel.grid.major.x = element_blank(), panel.grid.minor.y = element_blank()) + theme_bw() + theme(axis.text.x = element_text(angle = 90, hjust = 1))\n",
    "print(p)\n",
    "\n",
    "snFig1a <- ggplot(d, aes_string(x='Irrigation', y='soilMoisture', fill='Irrigation')) + \n",
    "     geom_boxplot() +\n",
    "     scale_fill_manual(name='Irrigation', values=irr_c_pal) + \n",
    "     ylab(\"Soil Moisture (bar?)\") + \n",
    "     theme(panel.grid.major.x = element_blank(), panel.grid.minor.y = element_blank()) + theme_bw() + theme(axis.text.x = element_text(angle = 0, hjust = 1)) + \n",
    "     facet_wrap('Phenology') + theme(panel.grid.major.x = element_blank(), panel.grid.minor.y = element_blank()) + theme_bw() + theme(axis.text.x = element_text(angle = 90, hjust = 1))\n",
    "print(snFig1a)"
   ]
  },
  {
   "cell_type": "code",
   "execution_count": 92,
   "metadata": {},
   "outputs": [
    {
     "name": "stderr",
     "output_type": "stream",
     "text": [
      "Warning message:\n",
      "“Removed 1 rows containing non-finite values (stat_boxplot).”"
     ]
    },
    {
     "data": {
      "image/png": "[encoded data removed]",
      "text/plain": [
       "plot without title"
      ]
     },
     "metadata": {},
     "output_type": "display_data"
    }
   ],
   "source": [
    "# row\n",
    "\n",
    "row_pal <- viridisLite::viridis(9)\n",
    "\n",
    "# get raw data\n",
    "d <- df[,c('Row', 'Irrigation', 'sampleName', 'Block', 'Phenology', 'Cond')]\n",
    "\n",
    "# remove outliers\n",
    "d <- anomalize(as_tibble(d), target='Cond', method='iqr', alpha=0.03, max_anoms=0.1)\n",
    "d <- d[d$anomaly != 'Yes',]\n",
    "d <- d %>% mutate(Phenology = fct_relevel(Phenology, \"anthesis\", \"veraison\", \"harvest\")) %>%\n",
    "           mutate(Irrigation=fct_relevel(Irrigation, 'none', 'RDI', 'full'))\n",
    "d$Row <- as.factor(d$Row)\n",
    "snFig1b <- ggplot(d, aes_string(x='Irrigation', y='Cond', fill='Irrigation')) + \n",
    "     geom_boxplot() +\n",
    "     scale_fill_manual(name='Irrigation', values=irr_c_pal) + \n",
    "     ylab('Stomatal Conductance (bar)') + \n",
    "     geom_hline(yintercept=0.15, lty=2, color='red', size=1) + \n",
    "     geom_hline(yintercept=0.05, lty=1, color='red', size=1) +\n",
    "     theme(panel.grid.major.x = element_blank(), panel.grid.minor.y = element_blank()) + theme_bw() + theme(axis.text.x = element_text(angle = 0, hjust = 1)) + \n",
    "     theme(panel.grid.major.x = element_blank(), panel.grid.minor.y = element_blank()) + theme_bw() + theme(axis.text.x = element_text(angle = 90, hjust = 1)) + \n",
    "     facet_wrap('Phenology')\n",
    "print(snFig1b)"
   ]
  },
  {
   "cell_type": "code",
   "execution_count": 64,
   "metadata": {},
   "outputs": [
    {
     "name": "stderr",
     "output_type": "stream",
     "text": [
      "Loading required package: magrittr\n",
      "\n",
      "Attaching package: ‘magrittr’\n",
      "\n",
      "The following object is masked from ‘package:rebus’:\n",
      "\n",
      "    or\n",
      "\n",
      "The following object is masked from ‘package:purrr’:\n",
      "\n",
      "    set_names\n",
      "\n",
      "The following object is masked from ‘package:tidyr’:\n",
      "\n",
      "    extract\n",
      "\n"
     ]
    }
   ],
   "source": [
    "library(ggpubr)"
   ]
  },
  {
   "cell_type": "code",
   "execution_count": 94,
   "metadata": {},
   "outputs": [
    {
     "name": "stderr",
     "output_type": "stream",
     "text": [
      "Warning message:\n",
      "“Removed 1 rows containing non-finite values (stat_boxplot).”"
     ]
    },
    {
     "data": {
      "image/png": "[encoded data removed]",
      "text/plain": [
       "plot without title"
      ]
     },
     "metadata": {},
     "output_type": "display_data"
    }
   ],
   "source": [
    "pdf('2017_irrigation_snFig1.pdf', width=12, height=4)\n",
    "  ggarrange(snFig1a, snFig1b, snFig1c, labels=c('A', 'B', 'C'), common.legend=T, ncol=3, legend='right')\n",
    "dev.off()"
   ]
  },
  {
   "cell_type": "markdown",
   "metadata": {},
   "source": [
    "## Stats on Soil Moisture, Water Potential, and Stomatal Condunctance"
   ]
  },
  {
   "cell_type": "code",
   "execution_count": 31,
   "metadata": {},
   "outputs": [],
   "source": [
    "d <- df %>% dplyr::select(sampleName, Irrigation, Rootstock, Phenology, Block, soilMoisture, Cond, waterPotential)\n",
    "\n",
    "sM_model <- lm(soilMoisture ~ Irrigation + Block + Rootstock + Phenology + Irrigation:Block + Irrigation:Rootstock + Irrigation*Phenology + Rootstock:Block + Block:Phenology + Rootstock:Phenology, data=d, singular.ok=TRUE)\n",
    "cond_model <- lm(Cond ~ Irrigation + Block + Rootstock + Phenology + Irrigation:Block + Irrigation:Rootstock + Irrigation*Phenology + Rootstock:Block + Block:Phenology + Rootstock:Phenology, data=d, singular.ok=TRUE)\n",
    "wP_model <- lm(waterPotential ~ Irrigation + Block + Rootstock + Phenology + Irrigation:Block + Irrigation:Rootstock + Irrigation*Phenology + Rootstock:Block + Block:Phenology + Rootstock:Phenology, data=d, singular.ok=TRUE)"
   ]
  },
  {
   "cell_type": "code",
   "execution_count": 53,
   "metadata": {},
   "outputs": [
    {
     "data": {
      "text/html": [
       "<table>\n",
       "<caption>A anova: 6 × 4</caption>\n",
       "<thead>\n",
       "\t<tr><th></th><th scope=col>Sum Sq</th><th scope=col>Df</th><th scope=col>F value</th><th scope=col>Pr(&gt;F)</th></tr>\n",
       "\t<tr><th></th><th scope=col>&lt;dbl&gt;</th><th scope=col>&lt;dbl&gt;</th><th scope=col>&lt;dbl&gt;</th><th scope=col>&lt;dbl&gt;</th></tr>\n",
       "</thead>\n",
       "<tbody>\n",
       "\t<tr><th scope=row>(Intercept)</th><td>7018.1239</td><td> 1</td><td>930.250096</td><td>3.645488e-72</td></tr>\n",
       "\t<tr><th scope=row>Block</th><td> 187.2797</td><td> 2</td><td> 12.411930</td><td>9.064992e-06</td></tr>\n",
       "\t<tr><th scope=row>Phenology</th><td>4282.0335</td><td> 2</td><td>283.791093</td><td>8.475489e-56</td></tr>\n",
       "\t<tr><th scope=row>Irrigation:Phenology</th><td> 103.2899</td><td> 4</td><td>  3.422761</td><td>1.007782e-02</td></tr>\n",
       "\t<tr><th scope=row>Block:Phenology</th><td> 200.9982</td><td> 4</td><td>  6.660563</td><td>5.154667e-05</td></tr>\n",
       "\t<tr><th scope=row>NA</th><td>       NA</td><td>NA</td><td>        NA</td><td>          NA</td></tr>\n",
       "</tbody>\n",
       "</table>\n"
      ],
      "text/latex": [
       "A anova: 6 × 4\n",
       "\\begin{tabular}{r|llll}\n",
       "  & Sum Sq & Df & F value & Pr(>F)\\\\\n",
       "  & <dbl> & <dbl> & <dbl> & <dbl>\\\\\n",
       "\\hline\n",
       "\t(Intercept) & 7018.1239 &  1 & 930.250096 & 3.645488e-72\\\\\n",
       "\tBlock &  187.2797 &  2 &  12.411930 & 9.064992e-06\\\\\n",
       "\tPhenology & 4282.0335 &  2 & 283.791093 & 8.475489e-56\\\\\n",
       "\tIrrigation:Phenology &  103.2899 &  4 &   3.422761 & 1.007782e-02\\\\\n",
       "\tBlock:Phenology &  200.9982 &  4 &   6.660563 & 5.154667e-05\\\\\n",
       "\tNA &        NA & NA &         NA &           NA\\\\\n",
       "\\end{tabular}\n"
      ],
      "text/markdown": [
       "\n",
       "A anova: 6 × 4\n",
       "\n",
       "| <!--/--> | Sum Sq &lt;dbl&gt; | Df &lt;dbl&gt; | F value &lt;dbl&gt; | Pr(&gt;F) &lt;dbl&gt; |\n",
       "|---|---|---|---|---|\n",
       "| (Intercept) | 7018.1239 |  1 | 930.250096 | 3.645488e-72 |\n",
       "| Block |  187.2797 |  2 |  12.411930 | 9.064992e-06 |\n",
       "| Phenology | 4282.0335 |  2 | 283.791093 | 8.475489e-56 |\n",
       "| Irrigation:Phenology |  103.2899 |  4 |   3.422761 | 1.007782e-02 |\n",
       "| Block:Phenology |  200.9982 |  4 |   6.660563 | 5.154667e-05 |\n",
       "| NA |        NA | NA |         NA |           NA |\n",
       "\n"
      ],
      "text/plain": [
       "                     Sum Sq    Df F value    Pr(>F)      \n",
       "(Intercept)          7018.1239  1 930.250096 3.645488e-72\n",
       "Block                 187.2797  2  12.411930 9.064992e-06\n",
       "Phenology            4282.0335  2 283.791093 8.475489e-56\n",
       "Irrigation:Phenology  103.2899  4   3.422761 1.007782e-02\n",
       "Block:Phenology       200.9982  4   6.660563 5.154667e-05\n",
       "NA                          NA NA         NA           NA"
      ]
     },
     "metadata": {},
     "output_type": "display_data"
    },
    {
     "data": {
      "text/html": [
       "<table>\n",
       "<caption>A anova: 5 × 4</caption>\n",
       "<thead>\n",
       "\t<tr><th></th><th scope=col>Sum Sq</th><th scope=col>Df</th><th scope=col>F value</th><th scope=col>Pr(&gt;F)</th></tr>\n",
       "\t<tr><th></th><th scope=col>&lt;dbl&gt;</th><th scope=col>&lt;dbl&gt;</th><th scope=col>&lt;dbl&gt;</th><th scope=col>&lt;dbl&gt;</th></tr>\n",
       "</thead>\n",
       "<tbody>\n",
       "\t<tr><th scope=row>(Intercept)</th><td>0.18396991</td><td> 1</td><td>48.129902</td><td>7.436822e-11</td></tr>\n",
       "\t<tr><th scope=row>Phenology</th><td>0.06243231</td><td> 2</td><td> 8.166719</td><td>4.065630e-04</td></tr>\n",
       "\t<tr><th scope=row>Block:Phenology</th><td>0.07966961</td><td> 4</td><td> 5.210757</td><td>5.460443e-04</td></tr>\n",
       "\t<tr><th scope=row>Rootstock:Phenology</th><td>0.08123241</td><td> 6</td><td> 3.541981</td><td>2.465269e-03</td></tr>\n",
       "\t<tr><th scope=row>NA</th><td>        NA</td><td>NA</td><td>       NA</td><td>          NA</td></tr>\n",
       "</tbody>\n",
       "</table>\n"
      ],
      "text/latex": [
       "A anova: 5 × 4\n",
       "\\begin{tabular}{r|llll}\n",
       "  & Sum Sq & Df & F value & Pr(>F)\\\\\n",
       "  & <dbl> & <dbl> & <dbl> & <dbl>\\\\\n",
       "\\hline\n",
       "\t(Intercept) & 0.18396991 &  1 & 48.129902 & 7.436822e-11\\\\\n",
       "\tPhenology & 0.06243231 &  2 &  8.166719 & 4.065630e-04\\\\\n",
       "\tBlock:Phenology & 0.07966961 &  4 &  5.210757 & 5.460443e-04\\\\\n",
       "\tRootstock:Phenology & 0.08123241 &  6 &  3.541981 & 2.465269e-03\\\\\n",
       "\tNA &         NA & NA &        NA &           NA\\\\\n",
       "\\end{tabular}\n"
      ],
      "text/markdown": [
       "\n",
       "A anova: 5 × 4\n",
       "\n",
       "| <!--/--> | Sum Sq &lt;dbl&gt; | Df &lt;dbl&gt; | F value &lt;dbl&gt; | Pr(&gt;F) &lt;dbl&gt; |\n",
       "|---|---|---|---|---|\n",
       "| (Intercept) | 0.18396991 |  1 | 48.129902 | 7.436822e-11 |\n",
       "| Phenology | 0.06243231 |  2 |  8.166719 | 4.065630e-04 |\n",
       "| Block:Phenology | 0.07966961 |  4 |  5.210757 | 5.460443e-04 |\n",
       "| Rootstock:Phenology | 0.08123241 |  6 |  3.541981 | 2.465269e-03 |\n",
       "| NA |         NA | NA |        NA |           NA |\n",
       "\n"
      ],
      "text/plain": [
       "                    Sum Sq     Df F value   Pr(>F)      \n",
       "(Intercept)         0.18396991  1 48.129902 7.436822e-11\n",
       "Phenology           0.06243231  2  8.166719 4.065630e-04\n",
       "Block:Phenology     0.07966961  4  5.210757 5.460443e-04\n",
       "Rootstock:Phenology 0.08123241  6  3.541981 2.465269e-03\n",
       "NA                          NA NA        NA           NA"
      ]
     },
     "metadata": {},
     "output_type": "display_data"
    },
    {
     "data": {
      "text/html": [
       "<table>\n",
       "<caption>A anova: 6 × 4</caption>\n",
       "<thead>\n",
       "\t<tr><th></th><th scope=col>Sum Sq</th><th scope=col>Df</th><th scope=col>F value</th><th scope=col>Pr(&gt;F)</th></tr>\n",
       "\t<tr><th></th><th scope=col>&lt;dbl&gt;</th><th scope=col>&lt;dbl&gt;</th><th scope=col>&lt;dbl&gt;</th><th scope=col>&lt;dbl&gt;</th></tr>\n",
       "</thead>\n",
       "<tbody>\n",
       "\t<tr><th scope=row>(Intercept)</th><td>444.92459</td><td> 1</td><td>126.484600</td><td>1.852656e-22</td></tr>\n",
       "\t<tr><th scope=row>Irrigation</th><td> 29.53735</td><td> 2</td><td>  4.198486</td><td>1.654937e-02</td></tr>\n",
       "\t<tr><th scope=row>Phenology</th><td>102.14980</td><td> 2</td><td> 14.519738</td><td>1.456854e-06</td></tr>\n",
       "\t<tr><th scope=row>Irrigation:Phenology</th><td> 64.00449</td><td> 4</td><td>  4.548851</td><td>1.606969e-03</td></tr>\n",
       "\t<tr><th scope=row>Block:Phenology</th><td> 87.96463</td><td> 4</td><td>  6.251717</td><td>9.996488e-05</td></tr>\n",
       "\t<tr><th scope=row>NA</th><td>       NA</td><td>NA</td><td>        NA</td><td>          NA</td></tr>\n",
       "</tbody>\n",
       "</table>\n"
      ],
      "text/latex": [
       "A anova: 6 × 4\n",
       "\\begin{tabular}{r|llll}\n",
       "  & Sum Sq & Df & F value & Pr(>F)\\\\\n",
       "  & <dbl> & <dbl> & <dbl> & <dbl>\\\\\n",
       "\\hline\n",
       "\t(Intercept) & 444.92459 &  1 & 126.484600 & 1.852656e-22\\\\\n",
       "\tIrrigation &  29.53735 &  2 &   4.198486 & 1.654937e-02\\\\\n",
       "\tPhenology & 102.14980 &  2 &  14.519738 & 1.456854e-06\\\\\n",
       "\tIrrigation:Phenology &  64.00449 &  4 &   4.548851 & 1.606969e-03\\\\\n",
       "\tBlock:Phenology &  87.96463 &  4 &   6.251717 & 9.996488e-05\\\\\n",
       "\tNA &        NA & NA &         NA &           NA\\\\\n",
       "\\end{tabular}\n"
      ],
      "text/markdown": [
       "\n",
       "A anova: 6 × 4\n",
       "\n",
       "| <!--/--> | Sum Sq &lt;dbl&gt; | Df &lt;dbl&gt; | F value &lt;dbl&gt; | Pr(&gt;F) &lt;dbl&gt; |\n",
       "|---|---|---|---|---|\n",
       "| (Intercept) | 444.92459 |  1 | 126.484600 | 1.852656e-22 |\n",
       "| Irrigation |  29.53735 |  2 |   4.198486 | 1.654937e-02 |\n",
       "| Phenology | 102.14980 |  2 |  14.519738 | 1.456854e-06 |\n",
       "| Irrigation:Phenology |  64.00449 |  4 |   4.548851 | 1.606969e-03 |\n",
       "| Block:Phenology |  87.96463 |  4 |   6.251717 | 9.996488e-05 |\n",
       "| NA |        NA | NA |         NA |           NA |\n",
       "\n"
      ],
      "text/plain": [
       "                     Sum Sq    Df F value    Pr(>F)      \n",
       "(Intercept)          444.92459  1 126.484600 1.852656e-22\n",
       "Irrigation            29.53735  2   4.198486 1.654937e-02\n",
       "Phenology            102.14980  2  14.519738 1.456854e-06\n",
       "Irrigation:Phenology  64.00449  4   4.548851 1.606969e-03\n",
       "Block:Phenology       87.96463  4   6.251717 9.996488e-05\n",
       "NA                          NA NA         NA           NA"
      ]
     },
     "metadata": {},
     "output_type": "display_data"
    }
   ],
   "source": [
    "sM_anova <- car::Anova(sM_model, type=3)\n",
    "cond_anova <- car::Anova(cond_model, type=3)\n",
    "wP_anova <- car::Anova(wP_model, type=3)\n",
    "\n",
    "sM_anova[sM_anova$Pr <= 0.05/3,]\n",
    "cond_anova[cond_anova$Pr <= 0.05/3,]\n",
    "wP_anova[wP_anova$Pr <= 0.05/3,]"
   ]
  },
  {
   "cell_type": "code",
   "execution_count": 49,
   "metadata": {},
   "outputs": [
    {
     "data": {
      "text/html": [
       "<table>\n",
       "<caption>A data.frame: 1 × 7</caption>\n",
       "<thead>\n",
       "\t<tr><th></th><th scope=col>contrast</th><th scope=col>estimate</th><th scope=col>SE</th><th scope=col>df</th><th scope=col>t.ratio</th><th scope=col>p.value</th><th scope=col>padj</th></tr>\n",
       "\t<tr><th></th><th scope=col>&lt;fct&gt;</th><th scope=col>&lt;dbl&gt;</th><th scope=col>&lt;dbl&gt;</th><th scope=col>&lt;dbl&gt;</th><th scope=col>&lt;dbl&gt;</th><th scope=col>&lt;dbl&gt;</th><th scope=col>&lt;dbl&gt;</th></tr>\n",
       "</thead>\n",
       "<tbody>\n",
       "\t<tr><th scope=row>34</th><td>full,veraison - none,veraison</td><td>3.197917</td><td>0.7929029</td><td>176</td><td>4.033175</td><td>0.002600176</td><td>0.02340158</td></tr>\n",
       "</tbody>\n",
       "</table>\n"
      ],
      "text/latex": [
       "A data.frame: 1 × 7\n",
       "\\begin{tabular}{r|lllllll}\n",
       "  & contrast & estimate & SE & df & t.ratio & p.value & padj\\\\\n",
       "  & <fct> & <dbl> & <dbl> & <dbl> & <dbl> & <dbl> & <dbl>\\\\\n",
       "\\hline\n",
       "\t34 & full,veraison - none,veraison & 3.197917 & 0.7929029 & 176 & 4.033175 & 0.002600176 & 0.02340158\\\\\n",
       "\\end{tabular}\n"
      ],
      "text/markdown": [
       "\n",
       "A data.frame: 1 × 7\n",
       "\n",
       "| <!--/--> | contrast &lt;fct&gt; | estimate &lt;dbl&gt; | SE &lt;dbl&gt; | df &lt;dbl&gt; | t.ratio &lt;dbl&gt; | p.value &lt;dbl&gt; | padj &lt;dbl&gt; |\n",
       "|---|---|---|---|---|---|---|---|\n",
       "| 34 | full,veraison - none,veraison | 3.197917 | 0.7929029 | 176 | 4.033175 | 0.002600176 | 0.02340158 |\n",
       "\n"
      ],
      "text/plain": [
       "   contrast                      estimate SE        df  t.ratio  p.value    \n",
       "34 full,veraison - none,veraison 3.197917 0.7929029 176 4.033175 0.002600176\n",
       "   padj      \n",
       "34 0.02340158"
      ]
     },
     "metadata": {},
     "output_type": "display_data"
    }
   ],
   "source": [
    "sM.emm <- emmeans::emmeans(sM_model, ~Irrigation:Phenology)\n",
    "res <- pairs(sM.emm)\n",
    "res <- as.data.frame(res)\n",
    "res <- transform(res, comps=reshape::colsplit(contrast, split = \"-\", names = c('c1', 'c2')))\n",
    "res <- transform(res, c1=reshape::colsplit(comps.c1, split = \",\", names = c('i1', 'p1')))\n",
    "res <- transform(res, c2=reshape::colsplit(comps.c2, split = \",\", names = c('i2', 'p2')))\n",
    "res$c2.p2 <- trimws(res$c2.p2, which='left')\n",
    "res$c1.p1 <- trimws(res$c1.p1, which='right')\n",
    "res <- res[res$c1.p1 == res$c2.p2,] %>% select(contrast:p.value)\n",
    "res$padj <- p.adjust(res$p.value, method='fdr')\n",
    "res[res$padj < 0.05,]"
   ]
  },
  {
   "cell_type": "code",
   "execution_count": 51,
   "metadata": {},
   "outputs": [
    {
     "data": {
      "text/html": [
       "<table>\n",
       "<caption>A data.frame: 1 × 7</caption>\n",
       "<thead>\n",
       "\t<tr><th></th><th scope=col>contrast</th><th scope=col>estimate</th><th scope=col>SE</th><th scope=col>df</th><th scope=col>t.ratio</th><th scope=col>p.value</th><th scope=col>padj</th></tr>\n",
       "\t<tr><th></th><th scope=col>&lt;fct&gt;</th><th scope=col>&lt;dbl&gt;</th><th scope=col>&lt;dbl&gt;</th><th scope=col>&lt;dbl&gt;</th><th scope=col>&lt;dbl&gt;</th><th scope=col>&lt;dbl&gt;</th><th scope=col>&lt;dbl&gt;</th></tr>\n",
       "</thead>\n",
       "<tbody>\n",
       "\t<tr><th scope=row>9</th><td>none,anthesis - RDI,anthesis</td><td>2.266667</td><td>0.5414193</td><td>176</td><td>4.186527</td><td>0.001449736</td><td>0.01304763</td></tr>\n",
       "</tbody>\n",
       "</table>\n"
      ],
      "text/latex": [
       "A data.frame: 1 × 7\n",
       "\\begin{tabular}{r|lllllll}\n",
       "  & contrast & estimate & SE & df & t.ratio & p.value & padj\\\\\n",
       "  & <fct> & <dbl> & <dbl> & <dbl> & <dbl> & <dbl> & <dbl>\\\\\n",
       "\\hline\n",
       "\t9 & none,anthesis - RDI,anthesis & 2.266667 & 0.5414193 & 176 & 4.186527 & 0.001449736 & 0.01304763\\\\\n",
       "\\end{tabular}\n"
      ],
      "text/markdown": [
       "\n",
       "A data.frame: 1 × 7\n",
       "\n",
       "| <!--/--> | contrast &lt;fct&gt; | estimate &lt;dbl&gt; | SE &lt;dbl&gt; | df &lt;dbl&gt; | t.ratio &lt;dbl&gt; | p.value &lt;dbl&gt; | padj &lt;dbl&gt; |\n",
       "|---|---|---|---|---|---|---|---|\n",
       "| 9 | none,anthesis - RDI,anthesis | 2.266667 | 0.5414193 | 176 | 4.186527 | 0.001449736 | 0.01304763 |\n",
       "\n"
      ],
      "text/plain": [
       "  contrast                     estimate SE        df  t.ratio  p.value    \n",
       "9 none,anthesis - RDI,anthesis 2.266667 0.5414193 176 4.186527 0.001449736\n",
       "  padj      \n",
       "9 0.01304763"
      ]
     },
     "metadata": {},
     "output_type": "display_data"
    }
   ],
   "source": [
    "wP.emm <- emmeans::emmeans(wP_model, ~Irrigation:Phenology)\n",
    "res <- pairs(wP.emm)\n",
    "res <- as.data.frame(res)\n",
    "res <- transform(res, comps=reshape::colsplit(contrast, split = \"-\", names = c('c1', 'c2')))\n",
    "res <- transform(res, c1=reshape::colsplit(comps.c1, split = \",\", names = c('i1', 'p1')))\n",
    "res <- transform(res, c2=reshape::colsplit(comps.c2, split = \",\", names = c('i2', 'p2')))\n",
    "res$c2.p2 <- trimws(res$c2.p2, which='left')\n",
    "res$c1.p1 <- trimws(res$c1.p1, which='right')\n",
    "res <- res[res$c1.p1 == res$c2.p2,] %>% select(contrast:p.value)\n",
    "res$padj <- p.adjust(res$p.value, method='fdr')\n",
    "res[res$padj < 0.05,]"
   ]
  },
  {
   "cell_type": "code",
   "execution_count": null,
   "metadata": {},
   "outputs": [],
   "source": []
  },
  {
   "cell_type": "code",
   "execution_count": 35,
   "metadata": {},
   "outputs": [
    {
     "data": {
      "text/html": [
       "<table>\n",
       "<caption>A data.frame: 6 × 15</caption>\n",
       "<thead>\n",
       "\t<tr><th scope=col>sampleName</th><th scope=col>Row</th><th scope=col>fileName</th><th scope=col>Rootstock</th><th scope=col>Irrigation</th><th scope=col>Phenology</th><th scope=col>Tissue</th><th scope=col>Block</th><th scope=col>block</th><th scope=col>vine</th><th scope=col>waterPotential</th><th scope=col>soilMoisture</th><th scope=col>Cond</th><th scope=col>Ci</th><th scope=col>Trmmol</th></tr>\n",
       "\t<tr><th scope=col>&lt;fct&gt;</th><th scope=col>&lt;fct&gt;</th><th scope=col>&lt;fct&gt;</th><th scope=col>&lt;fct&gt;</th><th scope=col>&lt;fct&gt;</th><th scope=col>&lt;fct&gt;</th><th scope=col>&lt;fct&gt;</th><th scope=col>&lt;fct&gt;</th><th scope=col>&lt;fct&gt;</th><th scope=col>&lt;int&gt;</th><th scope=col>&lt;dbl&gt;</th><th scope=col>&lt;dbl&gt;</th><th scope=col>&lt;dbl&gt;</th><th scope=col>&lt;dbl&gt;</th><th scope=col>&lt;dbl&gt;</th></tr>\n",
       "</thead>\n",
       "<tbody>\n",
       "\t<tr><td>A1Y1_001_L</td><td>8</td><td>A1Y1_001_L.counts</td><td>1103P</td><td>none</td><td>anthesis</td><td>Leaf</td><td>A</td><td>a</td><td>2</td><td> 9.50</td><td>32.0</td><td>0.07734387</td><td> 138.1123</td><td>0.9736491</td></tr>\n",
       "\t<tr><td>A1Y1_002_L</td><td>8</td><td>A1Y1_002_L.counts</td><td>1103P</td><td>none</td><td>anthesis</td><td>Leaf</td><td>A</td><td>a</td><td>3</td><td>12.50</td><td>35.4</td><td>0.10386962</td><td> 168.9603</td><td>1.1339703</td></tr>\n",
       "\t<tr><td>A1Y1_003_L</td><td>8</td><td>A1Y1_003_L.counts</td><td>3309C</td><td>none</td><td>anthesis</td><td>Leaf</td><td>A</td><td>b</td><td>2</td><td>12.60</td><td>34.8</td><td>0.03543027</td><td>-147.5891</td><td>0.3974592</td></tr>\n",
       "\t<tr><td>A1Y1_004_L</td><td>8</td><td>A1Y1_004_L.counts</td><td>3309C</td><td>none</td><td>anthesis</td><td>Leaf</td><td>A</td><td>b</td><td>3</td><td>10.50</td><td>35.4</td><td>0.33619481</td><td> 258.1799</td><td>2.6348604</td></tr>\n",
       "\t<tr><td>A1Y1_005_L</td><td>8</td><td>A1Y1_005_L.counts</td><td>SO4  </td><td>none</td><td>anthesis</td><td>Leaf</td><td>A</td><td>c</td><td>2</td><td> 8.00</td><td>33.4</td><td>0.12829633</td><td> 166.6581</td><td>1.0702814</td></tr>\n",
       "\t<tr><td>A1Y1_006_L</td><td>8</td><td>A1Y1_006_L.counts</td><td>SO4  </td><td>none</td><td>anthesis</td><td>Leaf</td><td>A</td><td>c</td><td>3</td><td>10.75</td><td>33.4</td><td>0.27706389</td><td> 281.0614</td><td>3.6145544</td></tr>\n",
       "</tbody>\n",
       "</table>\n"
      ],
      "text/latex": [
       "A data.frame: 6 × 15\n",
       "\\begin{tabular}{r|lllllllllllllll}\n",
       " sampleName & Row & fileName & Rootstock & Irrigation & Phenology & Tissue & Block & block & vine & waterPotential & soilMoisture & Cond & Ci & Trmmol\\\\\n",
       " <fct> & <fct> & <fct> & <fct> & <fct> & <fct> & <fct> & <fct> & <fct> & <int> & <dbl> & <dbl> & <dbl> & <dbl> & <dbl>\\\\\n",
       "\\hline\n",
       "\t A1Y1\\_001\\_L & 8 & A1Y1\\_001\\_L.counts & 1103P & none & anthesis & Leaf & A & a & 2 &  9.50 & 32.0 & 0.07734387 &  138.1123 & 0.9736491\\\\\n",
       "\t A1Y1\\_002\\_L & 8 & A1Y1\\_002\\_L.counts & 1103P & none & anthesis & Leaf & A & a & 3 & 12.50 & 35.4 & 0.10386962 &  168.9603 & 1.1339703\\\\\n",
       "\t A1Y1\\_003\\_L & 8 & A1Y1\\_003\\_L.counts & 3309C & none & anthesis & Leaf & A & b & 2 & 12.60 & 34.8 & 0.03543027 & -147.5891 & 0.3974592\\\\\n",
       "\t A1Y1\\_004\\_L & 8 & A1Y1\\_004\\_L.counts & 3309C & none & anthesis & Leaf & A & b & 3 & 10.50 & 35.4 & 0.33619481 &  258.1799 & 2.6348604\\\\\n",
       "\t A1Y1\\_005\\_L & 8 & A1Y1\\_005\\_L.counts & SO4   & none & anthesis & Leaf & A & c & 2 &  8.00 & 33.4 & 0.12829633 &  166.6581 & 1.0702814\\\\\n",
       "\t A1Y1\\_006\\_L & 8 & A1Y1\\_006\\_L.counts & SO4   & none & anthesis & Leaf & A & c & 3 & 10.75 & 33.4 & 0.27706389 &  281.0614 & 3.6145544\\\\\n",
       "\\end{tabular}\n"
      ],
      "text/markdown": [
       "\n",
       "A data.frame: 6 × 15\n",
       "\n",
       "| sampleName &lt;fct&gt; | Row &lt;fct&gt; | fileName &lt;fct&gt; | Rootstock &lt;fct&gt; | Irrigation &lt;fct&gt; | Phenology &lt;fct&gt; | Tissue &lt;fct&gt; | Block &lt;fct&gt; | block &lt;fct&gt; | vine &lt;int&gt; | waterPotential &lt;dbl&gt; | soilMoisture &lt;dbl&gt; | Cond &lt;dbl&gt; | Ci &lt;dbl&gt; | Trmmol &lt;dbl&gt; |\n",
       "|---|---|---|---|---|---|---|---|---|---|---|---|---|---|---|\n",
       "| A1Y1_001_L | 8 | A1Y1_001_L.counts | 1103P | none | anthesis | Leaf | A | a | 2 |  9.50 | 32.0 | 0.07734387 |  138.1123 | 0.9736491 |\n",
       "| A1Y1_002_L | 8 | A1Y1_002_L.counts | 1103P | none | anthesis | Leaf | A | a | 3 | 12.50 | 35.4 | 0.10386962 |  168.9603 | 1.1339703 |\n",
       "| A1Y1_003_L | 8 | A1Y1_003_L.counts | 3309C | none | anthesis | Leaf | A | b | 2 | 12.60 | 34.8 | 0.03543027 | -147.5891 | 0.3974592 |\n",
       "| A1Y1_004_L | 8 | A1Y1_004_L.counts | 3309C | none | anthesis | Leaf | A | b | 3 | 10.50 | 35.4 | 0.33619481 |  258.1799 | 2.6348604 |\n",
       "| A1Y1_005_L | 8 | A1Y1_005_L.counts | SO4   | none | anthesis | Leaf | A | c | 2 |  8.00 | 33.4 | 0.12829633 |  166.6581 | 1.0702814 |\n",
       "| A1Y1_006_L | 8 | A1Y1_006_L.counts | SO4   | none | anthesis | Leaf | A | c | 3 | 10.75 | 33.4 | 0.27706389 |  281.0614 | 3.6145544 |\n",
       "\n"
      ],
      "text/plain": [
       "  sampleName Row fileName          Rootstock Irrigation Phenology Tissue Block\n",
       "1 A1Y1_001_L 8   A1Y1_001_L.counts 1103P     none       anthesis  Leaf   A    \n",
       "2 A1Y1_002_L 8   A1Y1_002_L.counts 1103P     none       anthesis  Leaf   A    \n",
       "3 A1Y1_003_L 8   A1Y1_003_L.counts 3309C     none       anthesis  Leaf   A    \n",
       "4 A1Y1_004_L 8   A1Y1_004_L.counts 3309C     none       anthesis  Leaf   A    \n",
       "5 A1Y1_005_L 8   A1Y1_005_L.counts SO4       none       anthesis  Leaf   A    \n",
       "6 A1Y1_006_L 8   A1Y1_006_L.counts SO4       none       anthesis  Leaf   A    \n",
       "  block vine waterPotential soilMoisture Cond       Ci        Trmmol   \n",
       "1 a     2     9.50          32.0         0.07734387  138.1123 0.9736491\n",
       "2 a     3    12.50          35.4         0.10386962  168.9603 1.1339703\n",
       "3 b     2    12.60          34.8         0.03543027 -147.5891 0.3974592\n",
       "4 b     3    10.50          35.4         0.33619481  258.1799 2.6348604\n",
       "5 c     2     8.00          33.4         0.12829633  166.6581 1.0702814\n",
       "6 c     3    10.75          33.4         0.27706389  281.0614 3.6145544"
      ]
     },
     "metadata": {},
     "output_type": "display_data"
    }
   ],
   "source": [
    "head(df)"
   ]
  },
  {
   "cell_type": "markdown",
   "metadata": {},
   "source": [
    "## Quick Plots for AJM"
   ]
  },
  {
   "cell_type": "code",
   "execution_count": 22,
   "metadata": {},
   "outputs": [
    {
     "ename": "ERROR",
     "evalue": "Error in FUN(X[[i]], ...): object 'waterPotential' not found\n",
     "output_type": "error",
     "traceback": [
      "Error in FUN(X[[i]], ...): object 'waterPotential' not found\nTraceback:\n",
      "1. print(p)",
      "2. print.ggplot(p)",
      "3. ggplot_build(x)",
      "4. ggplot_build.ggplot(x)",
      "5. by_layer(function(l, d) l$compute_aesthetics(d, plot))",
      "6. f(l = layers[[i]], d = data[[i]])",
      "7. l$compute_aesthetics(d, plot)",
      "8. f(..., self = self)",
      "9. scales_add_defaults(plot$scales, data, aesthetics, plot$plot_env)",
      "10. lapply(aesthetics[new_aesthetics], rlang::eval_tidy, data = data)",
      "11. FUN(X[[i]], ...)"
     ]
    },
    {
     "data": {
      "image/png": "[encoded data removed]",
      "text/plain": [
       "plot without title"
      ]
     },
     "metadata": {},
     "output_type": "display_data"
    }
   ],
   "source": [
    "row_pal <- viridisLite::viridis(9)\n",
    "\n",
    "# get raw data\n",
    "d <- df[,c('sampleName', 'Rootstock', 'Phenology', 'Ci', 'Cond', 'Trmmol')]\n",
    "\n",
    "# remove outliers\n",
    "d <- anomalize(as_tibble(d), target='Ci', method='iqr', alpha=0.03, max_anoms=0.1)\n",
    "d <- d[d$anomaly != 'Yes',]\n",
    "d <- d %>% mutate(Phenology = fct_relevel(Phenology, \"anthesis\", \"veraison\", \"harvest\"))\n",
    "p <- ggplot(d, aes_string(x='Rootstock', y='waterPotential', fill='Row')) + \n",
    "     geom_boxplot() +\n",
    "     scale_fill_manual(name='Rootstock', values=rs_c_pal) + #, labels=c('8', '2', '3', '4', '5', '6', '7', '8', '9')) +\n",
    "     #scale_x_discrete(name='Row'), labels=c('1', '2', '3', '4', '5', '6', '7', '8', '9')) + \n",
    "     theme(panel.grid.major.x = element_blank(), panel.grid.minor.y = element_blank()) + theme_bw() + theme(axis.text.x = element_text(angle = 0, hjust = 1)) +  \n",
    "     facet_wrap('Phenology') + theme(panel.grid.major.x = element_blank(), panel.grid.minor.y = element_blank()) + theme_bw() + theme(axis.text.x = element_text(angle = 90, hjust = 1))\n",
    "\n",
    "\n",
    "print(p)"
   ]
  }
 ],
 "metadata": {
  "kernelspec": {
   "display_name": "R",
   "language": "R",
   "name": "ir"
  },
  "language_info": {
   "codemirror_mode": "r",
   "file_extension": ".r",
   "mimetype": "text/x-r-source",
   "name": "R",
   "pygments_lexer": "r",
   "version": "3.6.1"
  }
 },
 "nbformat": 4,
 "nbformat_minor": 2
}
